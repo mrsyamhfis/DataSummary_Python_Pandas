{
  "nbformat": 4,
  "nbformat_minor": 0,
  "metadata": {
    "colab": {
      "provenance": [],
      "mount_file_id": "1_XRhhZCOvrk0_1JSDsA9ak19ckgdxI4i",
      "authorship_tag": "ABX9TyO0aP8RmQZVzyyV821umqTs",
      "include_colab_link": true
    },
    "kernelspec": {
      "name": "python3",
      "display_name": "Python 3"
    },
    "language_info": {
      "name": "python"
    }
  },
  "cells": [
    {
      "cell_type": "markdown",
      "metadata": {
        "id": "view-in-github",
        "colab_type": "text"
      },
      "source": [
        "<a href=\"https://colab.research.google.com/github/mrsyamhfis/DataSummary_Python_Pandas/blob/main/Assigment_Chapter_4.ipynb\" target=\"_parent\"><img src=\"https://colab.research.google.com/assets/colab-badge.svg\" alt=\"Open In Colab\"/></a>"
      ]
    },
    {
      "cell_type": "markdown",
      "source": [
        "Importing dataset"
      ],
      "metadata": {
        "id": "QNSlGd86HHxF"
      }
    },
    {
      "cell_type": "code",
      "execution_count": 1,
      "metadata": {
        "id": "GcZ48qInEQwg"
      },
      "outputs": [],
      "source": [
        "import pandas as pd\n",
        "top_uni = pd.read_csv(\"/content/drive/MyDrive/Colab Notebooks/Top 2000 Universities of the World.csv\")"
      ]
    },
    {
      "cell_type": "markdown",
      "source": [
        "Exploring dataset"
      ],
      "metadata": {
        "id": "WI8PN1Z5HGn7"
      }
    },
    {
      "cell_type": "code",
      "source": [
        "top_uni"
      ],
      "metadata": {
        "colab": {
          "base_uri": "https://localhost:8080/",
          "height": 589
        },
        "id": "Akyr_xucHMor",
        "outputId": "22c9b1f9-f807-4cc3-ea19-f2b01a09d314"
      },
      "execution_count": 2,
      "outputs": [
        {
          "output_type": "execute_result",
          "data": {
            "text/plain": [
              "      World Rank                                 Institution         Country  \\\n",
              "0              1                          Harvard University             USA   \n",
              "1              2       Massachusetts Institute of Technology             USA   \n",
              "2              3                         Stanford University             USA   \n",
              "3              4                     University of Cambridge  United Kingdom   \n",
              "4              5                        University of Oxford  United Kingdom   \n",
              "...          ...                                         ...             ...   \n",
              "1995        1996             Santa Catarina State University          Brazil   \n",
              "1996        1997            Yancheng Institute of Technology           China   \n",
              "1997        1998  Xi'an University of Science and Technology           China   \n",
              "1998        1999                    CEU San Pablo University           Spain   \n",
              "1999        2000                           Huzhou University           China   \n",
              "\n",
              "      National Rank  Quality of Education Rank  Alumni Employment Rank  \\\n",
              "0                 1                        1.0                     1.0   \n",
              "1                 2                        4.0                    12.0   \n",
              "2                 3                       10.0                     4.0   \n",
              "3                 1                        3.0                    25.0   \n",
              "4                 2                        7.0                    27.0   \n",
              "...             ...                        ...                     ...   \n",
              "1995             56                        0.0                   936.0   \n",
              "1996            275                        0.0                     0.0   \n",
              "1997            276                        0.0                   994.0   \n",
              "1998             53                        0.0                   568.0   \n",
              "1999            277                        0.0                     0.0   \n",
              "\n",
              "      Quality of Faculty Rank  Research Performance Rank  Score  \n",
              "0                         1.0                        1.0  100.0  \n",
              "1                         2.0                        8.0   96.7  \n",
              "2                         3.0                        2.0   95.1  \n",
              "3                         4.0                       10.0   94.1  \n",
              "4                         9.0                        4.0   93.3  \n",
              "...                       ...                        ...    ...  \n",
              "1995                      0.0                     1938.0   65.8  \n",
              "1996                      0.0                     1920.0   65.7  \n",
              "1997                      0.0                     1937.0   65.7  \n",
              "1998                      0.0                     1992.0   65.7  \n",
              "1999                      0.0                     1922.0   65.7  \n",
              "\n",
              "[2000 rows x 9 columns]"
            ],
            "text/html": [
              "\n",
              "  <div id=\"df-14b1e0a9-bbd8-40a2-94f7-e882fd1df60d\">\n",
              "    <div class=\"colab-df-container\">\n",
              "      <div>\n",
              "<style scoped>\n",
              "    .dataframe tbody tr th:only-of-type {\n",
              "        vertical-align: middle;\n",
              "    }\n",
              "\n",
              "    .dataframe tbody tr th {\n",
              "        vertical-align: top;\n",
              "    }\n",
              "\n",
              "    .dataframe thead th {\n",
              "        text-align: right;\n",
              "    }\n",
              "</style>\n",
              "<table border=\"1\" class=\"dataframe\">\n",
              "  <thead>\n",
              "    <tr style=\"text-align: right;\">\n",
              "      <th></th>\n",
              "      <th>World Rank</th>\n",
              "      <th>Institution</th>\n",
              "      <th>Country</th>\n",
              "      <th>National Rank</th>\n",
              "      <th>Quality of Education Rank</th>\n",
              "      <th>Alumni Employment Rank</th>\n",
              "      <th>Quality of Faculty Rank</th>\n",
              "      <th>Research Performance Rank</th>\n",
              "      <th>Score</th>\n",
              "    </tr>\n",
              "  </thead>\n",
              "  <tbody>\n",
              "    <tr>\n",
              "      <th>0</th>\n",
              "      <td>1</td>\n",
              "      <td>Harvard University</td>\n",
              "      <td>USA</td>\n",
              "      <td>1</td>\n",
              "      <td>1.0</td>\n",
              "      <td>1.0</td>\n",
              "      <td>1.0</td>\n",
              "      <td>1.0</td>\n",
              "      <td>100.0</td>\n",
              "    </tr>\n",
              "    <tr>\n",
              "      <th>1</th>\n",
              "      <td>2</td>\n",
              "      <td>Massachusetts Institute of Technology</td>\n",
              "      <td>USA</td>\n",
              "      <td>2</td>\n",
              "      <td>4.0</td>\n",
              "      <td>12.0</td>\n",
              "      <td>2.0</td>\n",
              "      <td>8.0</td>\n",
              "      <td>96.7</td>\n",
              "    </tr>\n",
              "    <tr>\n",
              "      <th>2</th>\n",
              "      <td>3</td>\n",
              "      <td>Stanford University</td>\n",
              "      <td>USA</td>\n",
              "      <td>3</td>\n",
              "      <td>10.0</td>\n",
              "      <td>4.0</td>\n",
              "      <td>3.0</td>\n",
              "      <td>2.0</td>\n",
              "      <td>95.1</td>\n",
              "    </tr>\n",
              "    <tr>\n",
              "      <th>3</th>\n",
              "      <td>4</td>\n",
              "      <td>University of Cambridge</td>\n",
              "      <td>United Kingdom</td>\n",
              "      <td>1</td>\n",
              "      <td>3.0</td>\n",
              "      <td>25.0</td>\n",
              "      <td>4.0</td>\n",
              "      <td>10.0</td>\n",
              "      <td>94.1</td>\n",
              "    </tr>\n",
              "    <tr>\n",
              "      <th>4</th>\n",
              "      <td>5</td>\n",
              "      <td>University of Oxford</td>\n",
              "      <td>United Kingdom</td>\n",
              "      <td>2</td>\n",
              "      <td>7.0</td>\n",
              "      <td>27.0</td>\n",
              "      <td>9.0</td>\n",
              "      <td>4.0</td>\n",
              "      <td>93.3</td>\n",
              "    </tr>\n",
              "    <tr>\n",
              "      <th>...</th>\n",
              "      <td>...</td>\n",
              "      <td>...</td>\n",
              "      <td>...</td>\n",
              "      <td>...</td>\n",
              "      <td>...</td>\n",
              "      <td>...</td>\n",
              "      <td>...</td>\n",
              "      <td>...</td>\n",
              "      <td>...</td>\n",
              "    </tr>\n",
              "    <tr>\n",
              "      <th>1995</th>\n",
              "      <td>1996</td>\n",
              "      <td>Santa Catarina State University</td>\n",
              "      <td>Brazil</td>\n",
              "      <td>56</td>\n",
              "      <td>0.0</td>\n",
              "      <td>936.0</td>\n",
              "      <td>0.0</td>\n",
              "      <td>1938.0</td>\n",
              "      <td>65.8</td>\n",
              "    </tr>\n",
              "    <tr>\n",
              "      <th>1996</th>\n",
              "      <td>1997</td>\n",
              "      <td>Yancheng Institute of Technology</td>\n",
              "      <td>China</td>\n",
              "      <td>275</td>\n",
              "      <td>0.0</td>\n",
              "      <td>0.0</td>\n",
              "      <td>0.0</td>\n",
              "      <td>1920.0</td>\n",
              "      <td>65.7</td>\n",
              "    </tr>\n",
              "    <tr>\n",
              "      <th>1997</th>\n",
              "      <td>1998</td>\n",
              "      <td>Xi'an University of Science and Technology</td>\n",
              "      <td>China</td>\n",
              "      <td>276</td>\n",
              "      <td>0.0</td>\n",
              "      <td>994.0</td>\n",
              "      <td>0.0</td>\n",
              "      <td>1937.0</td>\n",
              "      <td>65.7</td>\n",
              "    </tr>\n",
              "    <tr>\n",
              "      <th>1998</th>\n",
              "      <td>1999</td>\n",
              "      <td>CEU San Pablo University</td>\n",
              "      <td>Spain</td>\n",
              "      <td>53</td>\n",
              "      <td>0.0</td>\n",
              "      <td>568.0</td>\n",
              "      <td>0.0</td>\n",
              "      <td>1992.0</td>\n",
              "      <td>65.7</td>\n",
              "    </tr>\n",
              "    <tr>\n",
              "      <th>1999</th>\n",
              "      <td>2000</td>\n",
              "      <td>Huzhou University</td>\n",
              "      <td>China</td>\n",
              "      <td>277</td>\n",
              "      <td>0.0</td>\n",
              "      <td>0.0</td>\n",
              "      <td>0.0</td>\n",
              "      <td>1922.0</td>\n",
              "      <td>65.7</td>\n",
              "    </tr>\n",
              "  </tbody>\n",
              "</table>\n",
              "<p>2000 rows × 9 columns</p>\n",
              "</div>\n",
              "      <button class=\"colab-df-convert\" onclick=\"convertToInteractive('df-14b1e0a9-bbd8-40a2-94f7-e882fd1df60d')\"\n",
              "              title=\"Convert this dataframe to an interactive table.\"\n",
              "              style=\"display:none;\">\n",
              "        \n",
              "  <svg xmlns=\"http://www.w3.org/2000/svg\" height=\"24px\"viewBox=\"0 0 24 24\"\n",
              "       width=\"24px\">\n",
              "    <path d=\"M0 0h24v24H0V0z\" fill=\"none\"/>\n",
              "    <path d=\"M18.56 5.44l.94 2.06.94-2.06 2.06-.94-2.06-.94-.94-2.06-.94 2.06-2.06.94zm-11 1L8.5 8.5l.94-2.06 2.06-.94-2.06-.94L8.5 2.5l-.94 2.06-2.06.94zm10 10l.94 2.06.94-2.06 2.06-.94-2.06-.94-.94-2.06-.94 2.06-2.06.94z\"/><path d=\"M17.41 7.96l-1.37-1.37c-.4-.4-.92-.59-1.43-.59-.52 0-1.04.2-1.43.59L10.3 9.45l-7.72 7.72c-.78.78-.78 2.05 0 2.83L4 21.41c.39.39.9.59 1.41.59.51 0 1.02-.2 1.41-.59l7.78-7.78 2.81-2.81c.8-.78.8-2.07 0-2.86zM5.41 20L4 18.59l7.72-7.72 1.47 1.35L5.41 20z\"/>\n",
              "  </svg>\n",
              "      </button>\n",
              "      \n",
              "  <style>\n",
              "    .colab-df-container {\n",
              "      display:flex;\n",
              "      flex-wrap:wrap;\n",
              "      gap: 12px;\n",
              "    }\n",
              "\n",
              "    .colab-df-convert {\n",
              "      background-color: #E8F0FE;\n",
              "      border: none;\n",
              "      border-radius: 50%;\n",
              "      cursor: pointer;\n",
              "      display: none;\n",
              "      fill: #1967D2;\n",
              "      height: 32px;\n",
              "      padding: 0 0 0 0;\n",
              "      width: 32px;\n",
              "    }\n",
              "\n",
              "    .colab-df-convert:hover {\n",
              "      background-color: #E2EBFA;\n",
              "      box-shadow: 0px 1px 2px rgba(60, 64, 67, 0.3), 0px 1px 3px 1px rgba(60, 64, 67, 0.15);\n",
              "      fill: #174EA6;\n",
              "    }\n",
              "\n",
              "    [theme=dark] .colab-df-convert {\n",
              "      background-color: #3B4455;\n",
              "      fill: #D2E3FC;\n",
              "    }\n",
              "\n",
              "    [theme=dark] .colab-df-convert:hover {\n",
              "      background-color: #434B5C;\n",
              "      box-shadow: 0px 1px 3px 1px rgba(0, 0, 0, 0.15);\n",
              "      filter: drop-shadow(0px 1px 2px rgba(0, 0, 0, 0.3));\n",
              "      fill: #FFFFFF;\n",
              "    }\n",
              "  </style>\n",
              "\n",
              "      <script>\n",
              "        const buttonEl =\n",
              "          document.querySelector('#df-14b1e0a9-bbd8-40a2-94f7-e882fd1df60d button.colab-df-convert');\n",
              "        buttonEl.style.display =\n",
              "          google.colab.kernel.accessAllowed ? 'block' : 'none';\n",
              "\n",
              "        async function convertToInteractive(key) {\n",
              "          const element = document.querySelector('#df-14b1e0a9-bbd8-40a2-94f7-e882fd1df60d');\n",
              "          const dataTable =\n",
              "            await google.colab.kernel.invokeFunction('convertToInteractive',\n",
              "                                                     [key], {});\n",
              "          if (!dataTable) return;\n",
              "\n",
              "          const docLinkHtml = 'Like what you see? Visit the ' +\n",
              "            '<a target=\"_blank\" href=https://colab.research.google.com/notebooks/data_table.ipynb>data table notebook</a>'\n",
              "            + ' to learn more about interactive tables.';\n",
              "          element.innerHTML = '';\n",
              "          dataTable['output_type'] = 'display_data';\n",
              "          await google.colab.output.renderOutput(dataTable, element);\n",
              "          const docLink = document.createElement('div');\n",
              "          docLink.innerHTML = docLinkHtml;\n",
              "          element.appendChild(docLink);\n",
              "        }\n",
              "      </script>\n",
              "    </div>\n",
              "  </div>\n",
              "  "
            ]
          },
          "metadata": {},
          "execution_count": 2
        }
      ]
    },
    {
      "cell_type": "code",
      "source": [
        "top_uni.shape"
      ],
      "metadata": {
        "colab": {
          "base_uri": "https://localhost:8080/"
        },
        "id": "B0RUMSImHqle",
        "outputId": "6f9ff88a-0eeb-4b03-dd0d-f0c6c4cd27dd"
      },
      "execution_count": 3,
      "outputs": [
        {
          "output_type": "execute_result",
          "data": {
            "text/plain": [
              "(2000, 9)"
            ]
          },
          "metadata": {},
          "execution_count": 3
        }
      ]
    },
    {
      "cell_type": "code",
      "source": [
        "top_uni.info()"
      ],
      "metadata": {
        "colab": {
          "base_uri": "https://localhost:8080/"
        },
        "id": "FswgXymFHPVV",
        "outputId": "3e5905f9-0edf-4f39-c3d5-cba50a287289"
      },
      "execution_count": 4,
      "outputs": [
        {
          "output_type": "stream",
          "name": "stdout",
          "text": [
            "<class 'pandas.core.frame.DataFrame'>\n",
            "RangeIndex: 2000 entries, 0 to 1999\n",
            "Data columns (total 9 columns):\n",
            " #   Column                     Non-Null Count  Dtype  \n",
            "---  ------                     --------------  -----  \n",
            " 0   World Rank                 2000 non-null   int64  \n",
            " 1   Institution                2000 non-null   object \n",
            " 2   Country                    2000 non-null   object \n",
            " 3   National Rank              2000 non-null   int64  \n",
            " 4   Quality of Education Rank  2000 non-null   float64\n",
            " 5   Alumni Employment Rank     2000 non-null   float64\n",
            " 6   Quality of Faculty Rank    2000 non-null   float64\n",
            " 7   Research Performance Rank  2000 non-null   float64\n",
            " 8   Score                      2000 non-null   float64\n",
            "dtypes: float64(5), int64(2), object(2)\n",
            "memory usage: 140.8+ KB\n"
          ]
        }
      ]
    },
    {
      "cell_type": "markdown",
      "source": [
        "**Question 1**\n",
        "\n"
      ],
      "metadata": {
        "id": "hv1sfFpAOrVW"
      }
    },
    {
      "cell_type": "code",
      "source": [
        "top_uni.isnull().sum()"
      ],
      "metadata": {
        "colab": {
          "base_uri": "https://localhost:8080/"
        },
        "id": "mQuzu_RnHaSR",
        "outputId": "bb2156ec-912f-42ef-9e61-d4942ca09d34"
      },
      "execution_count": 5,
      "outputs": [
        {
          "output_type": "execute_result",
          "data": {
            "text/plain": [
              "World Rank                   0\n",
              "Institution                  0\n",
              "Country                      0\n",
              "National Rank                0\n",
              "Quality of Education Rank    0\n",
              "Alumni Employment Rank       0\n",
              "Quality of Faculty Rank      0\n",
              "Research Performance Rank    0\n",
              "Score                        0\n",
              "dtype: int64"
            ]
          },
          "metadata": {},
          "execution_count": 5
        }
      ]
    },
    {
      "cell_type": "markdown",
      "source": [
        "Google Sheets shows there is null values in the dataset. But in here, the null values are tagged as '0.0'. Thus, null values are unidentified. So need to remove these null values some other way."
      ],
      "metadata": {
        "id": "G7_Z5aUmdA47"
      }
    },
    {
      "cell_type": "code",
      "source": [
        "all_null = (top_uni == 0.0)"
      ],
      "metadata": {
        "id": "2D8D3xh3bloy"
      },
      "execution_count": 6,
      "outputs": []
    },
    {
      "cell_type": "markdown",
      "source": [
        "Total number of null values for each column:"
      ],
      "metadata": {
        "id": "S9cEjT36gUlb"
      }
    },
    {
      "cell_type": "code",
      "source": [
        "all_null.sum()"
      ],
      "metadata": {
        "colab": {
          "base_uri": "https://localhost:8080/"
        },
        "id": "cUktdyNHeJPo",
        "outputId": "a8d0a90f-2075-4794-d00d-9a26f2144deb"
      },
      "execution_count": 7,
      "outputs": [
        {
          "output_type": "execute_result",
          "data": {
            "text/plain": [
              "World Rank                      0\n",
              "Institution                     0\n",
              "Country                         0\n",
              "National Rank                   0\n",
              "Quality of Education Rank    1572\n",
              "Alumni Employment Rank       1025\n",
              "Quality of Faculty Rank      1731\n",
              "Research Performance Rank      64\n",
              "Score                           0\n",
              "dtype: int64"
            ]
          },
          "metadata": {},
          "execution_count": 7
        }
      ]
    },
    {
      "cell_type": "code",
      "source": [
        "all_null.sum().sum()"
      ],
      "metadata": {
        "colab": {
          "base_uri": "https://localhost:8080/"
        },
        "id": "HiKGRCoBhWew",
        "outputId": "61c12642-a4a0-4d0a-e69c-c6c21e5ea971"
      },
      "execution_count": 8,
      "outputs": [
        {
          "output_type": "execute_result",
          "data": {
            "text/plain": [
              "4392"
            ]
          },
          "metadata": {},
          "execution_count": 8
        }
      ]
    },
    {
      "cell_type": "markdown",
      "source": [
        "# Need to drop all the rows with null\n",
        "\n",
        "Unsuccessful attempts:\n",
        "\n",
        "*   top_uni.allnull.drop(inplace = True, axis=1)\n",
        "*   top_uni.drop(all_null['Quality of Education'],axis=1, inplace=True)\n",
        "*   top_uni.drop(only_null, inplace=True, axis=1)\n",
        "\n",
        "\n",
        "\n",
        "\n"
      ],
      "metadata": {
        "id": "teMt_aaFeEQP"
      }
    },
    {
      "cell_type": "code",
      "source": [
        "#below was copied from this:\n",
        "#indexAge = df[ (df['Name'] == 'John Holland') | (df['Position'] == 'SG') ].index\n",
        "#df.drop(indexAge , inplace=True)\n",
        "#df.head(15)\n",
        "\n"
      ],
      "metadata": {
        "id": "aR8sLTRVn-z1"
      },
      "execution_count": 9,
      "outputs": []
    },
    {
      "cell_type": "code",
      "source": [
        "only_null = top_uni[ (top_uni['Quality of Education Rank'] == 0.0) | (top_uni['Alumni Employment Rank'] == 0.0) | (top_uni['Quality of Faculty Rank'] == 0.0) ].index"
      ],
      "metadata": {
        "id": "S09MXMIroIWO"
      },
      "execution_count": 10,
      "outputs": []
    },
    {
      "cell_type": "code",
      "source": [
        "top_uni.drop(only_null , inplace=True)"
      ],
      "metadata": {
        "id": "goMFaFDPOYIR"
      },
      "execution_count": 11,
      "outputs": []
    },
    {
      "cell_type": "markdown",
      "source": [
        "check ada null values lagi ke tak 😥"
      ],
      "metadata": {
        "id": "uVPZEHYcO6kB"
      }
    },
    {
      "cell_type": "code",
      "source": [
        "check_null = (top_uni == 0.0)"
      ],
      "metadata": {
        "id": "xrZXec5eOxXT"
      },
      "execution_count": 12,
      "outputs": []
    },
    {
      "cell_type": "code",
      "source": [
        "check_null.sum()"
      ],
      "metadata": {
        "colab": {
          "base_uri": "https://localhost:8080/"
        },
        "id": "aC4NxEfqPZoD",
        "outputId": "97b98e07-7880-4211-e122-338d572a7d88"
      },
      "execution_count": 13,
      "outputs": [
        {
          "output_type": "execute_result",
          "data": {
            "text/plain": [
              "World Rank                   0\n",
              "Institution                  0\n",
              "Country                      0\n",
              "National Rank                0\n",
              "Quality of Education Rank    0\n",
              "Alumni Employment Rank       0\n",
              "Quality of Faculty Rank      0\n",
              "Research Performance Rank    2\n",
              "Score                        0\n",
              "dtype: int64"
            ]
          },
          "metadata": {},
          "execution_count": 13
        }
      ]
    },
    {
      "cell_type": "markdown",
      "source": [
        "check apa null values for Research Performance Rank"
      ],
      "metadata": {
        "id": "1TgvqB6WQcCo"
      }
    },
    {
      "cell_type": "code",
      "source": [
        "print(top_uni['Research Performance Rank'])\n"
      ],
      "metadata": {
        "colab": {
          "base_uri": "https://localhost:8080/"
        },
        "id": "JERsttCJPvyH",
        "outputId": "d69deca6-0edb-4d1a-95df-12b0a02d0940"
      },
      "execution_count": 14,
      "outputs": [
        {
          "output_type": "stream",
          "name": "stdout",
          "text": [
            "0          1.0\n",
            "1          8.0\n",
            "2          2.0\n",
            "3         10.0\n",
            "4          4.0\n",
            "         ...  \n",
            "729      776.0\n",
            "836      865.0\n",
            "927        0.0\n",
            "958        0.0\n",
            "1096    1183.0\n",
            "Name: Research Performance Rank, Length: 183, dtype: float64\n"
          ]
        }
      ]
    },
    {
      "cell_type": "markdown",
      "source": [
        "**Question 2**"
      ],
      "metadata": {
        "id": "BDbddiKjOZCg"
      }
    },
    {
      "cell_type": "code",
      "source": [
        "top_uni.describe()"
      ],
      "metadata": {
        "colab": {
          "base_uri": "https://localhost:8080/",
          "height": 362
        },
        "id": "aW3MKKQ4JTdj",
        "outputId": "99a6f19e-6493-49f0-c062-7c966025f2df"
      },
      "execution_count": 15,
      "outputs": [
        {
          "output_type": "execute_result",
          "data": {
            "text/plain": [
              "        World Rank  National Rank  Quality of Education Rank  \\\n",
              "count   183.000000     183.000000                 183.000000   \n",
              "mean    160.071038      23.464481                 209.737705   \n",
              "std     177.948907      33.974903                 155.166012   \n",
              "min       1.000000       1.000000                   1.000000   \n",
              "25%      50.500000       4.000000                  77.500000   \n",
              "50%     113.000000      10.000000                 172.000000   \n",
              "75%     194.500000      30.500000                 334.000000   \n",
              "max    1097.000000     214.000000                 522.000000   \n",
              "\n",
              "       Alumni Employment Rank  Quality of Faculty Rank  \\\n",
              "count              183.000000               183.000000   \n",
              "mean               432.852459               121.114754   \n",
              "std                368.807322                76.098136   \n",
              "min                  1.000000                 1.000000   \n",
              "25%                120.000000                57.000000   \n",
              "50%                371.000000               116.000000   \n",
              "75%                614.000000               179.500000   \n",
              "max               1498.000000               273.000000   \n",
              "\n",
              "       Research Performance Rank       Score  \n",
              "count                 183.000000  183.000000  \n",
              "mean                  175.579235   81.819126  \n",
              "std                   185.434574    5.030393  \n",
              "min                     0.000000   69.700000  \n",
              "25%                    54.500000   78.800000  \n",
              "50%                   131.000000   81.200000  \n",
              "75%                   234.500000   84.550000  \n",
              "max                  1183.000000  100.000000  "
            ],
            "text/html": [
              "\n",
              "  <div id=\"df-a1aa0485-8fb8-4117-b895-442e3f8d2c18\">\n",
              "    <div class=\"colab-df-container\">\n",
              "      <div>\n",
              "<style scoped>\n",
              "    .dataframe tbody tr th:only-of-type {\n",
              "        vertical-align: middle;\n",
              "    }\n",
              "\n",
              "    .dataframe tbody tr th {\n",
              "        vertical-align: top;\n",
              "    }\n",
              "\n",
              "    .dataframe thead th {\n",
              "        text-align: right;\n",
              "    }\n",
              "</style>\n",
              "<table border=\"1\" class=\"dataframe\">\n",
              "  <thead>\n",
              "    <tr style=\"text-align: right;\">\n",
              "      <th></th>\n",
              "      <th>World Rank</th>\n",
              "      <th>National Rank</th>\n",
              "      <th>Quality of Education Rank</th>\n",
              "      <th>Alumni Employment Rank</th>\n",
              "      <th>Quality of Faculty Rank</th>\n",
              "      <th>Research Performance Rank</th>\n",
              "      <th>Score</th>\n",
              "    </tr>\n",
              "  </thead>\n",
              "  <tbody>\n",
              "    <tr>\n",
              "      <th>count</th>\n",
              "      <td>183.000000</td>\n",
              "      <td>183.000000</td>\n",
              "      <td>183.000000</td>\n",
              "      <td>183.000000</td>\n",
              "      <td>183.000000</td>\n",
              "      <td>183.000000</td>\n",
              "      <td>183.000000</td>\n",
              "    </tr>\n",
              "    <tr>\n",
              "      <th>mean</th>\n",
              "      <td>160.071038</td>\n",
              "      <td>23.464481</td>\n",
              "      <td>209.737705</td>\n",
              "      <td>432.852459</td>\n",
              "      <td>121.114754</td>\n",
              "      <td>175.579235</td>\n",
              "      <td>81.819126</td>\n",
              "    </tr>\n",
              "    <tr>\n",
              "      <th>std</th>\n",
              "      <td>177.948907</td>\n",
              "      <td>33.974903</td>\n",
              "      <td>155.166012</td>\n",
              "      <td>368.807322</td>\n",
              "      <td>76.098136</td>\n",
              "      <td>185.434574</td>\n",
              "      <td>5.030393</td>\n",
              "    </tr>\n",
              "    <tr>\n",
              "      <th>min</th>\n",
              "      <td>1.000000</td>\n",
              "      <td>1.000000</td>\n",
              "      <td>1.000000</td>\n",
              "      <td>1.000000</td>\n",
              "      <td>1.000000</td>\n",
              "      <td>0.000000</td>\n",
              "      <td>69.700000</td>\n",
              "    </tr>\n",
              "    <tr>\n",
              "      <th>25%</th>\n",
              "      <td>50.500000</td>\n",
              "      <td>4.000000</td>\n",
              "      <td>77.500000</td>\n",
              "      <td>120.000000</td>\n",
              "      <td>57.000000</td>\n",
              "      <td>54.500000</td>\n",
              "      <td>78.800000</td>\n",
              "    </tr>\n",
              "    <tr>\n",
              "      <th>50%</th>\n",
              "      <td>113.000000</td>\n",
              "      <td>10.000000</td>\n",
              "      <td>172.000000</td>\n",
              "      <td>371.000000</td>\n",
              "      <td>116.000000</td>\n",
              "      <td>131.000000</td>\n",
              "      <td>81.200000</td>\n",
              "    </tr>\n",
              "    <tr>\n",
              "      <th>75%</th>\n",
              "      <td>194.500000</td>\n",
              "      <td>30.500000</td>\n",
              "      <td>334.000000</td>\n",
              "      <td>614.000000</td>\n",
              "      <td>179.500000</td>\n",
              "      <td>234.500000</td>\n",
              "      <td>84.550000</td>\n",
              "    </tr>\n",
              "    <tr>\n",
              "      <th>max</th>\n",
              "      <td>1097.000000</td>\n",
              "      <td>214.000000</td>\n",
              "      <td>522.000000</td>\n",
              "      <td>1498.000000</td>\n",
              "      <td>273.000000</td>\n",
              "      <td>1183.000000</td>\n",
              "      <td>100.000000</td>\n",
              "    </tr>\n",
              "  </tbody>\n",
              "</table>\n",
              "</div>\n",
              "      <button class=\"colab-df-convert\" onclick=\"convertToInteractive('df-a1aa0485-8fb8-4117-b895-442e3f8d2c18')\"\n",
              "              title=\"Convert this dataframe to an interactive table.\"\n",
              "              style=\"display:none;\">\n",
              "        \n",
              "  <svg xmlns=\"http://www.w3.org/2000/svg\" height=\"24px\"viewBox=\"0 0 24 24\"\n",
              "       width=\"24px\">\n",
              "    <path d=\"M0 0h24v24H0V0z\" fill=\"none\"/>\n",
              "    <path d=\"M18.56 5.44l.94 2.06.94-2.06 2.06-.94-2.06-.94-.94-2.06-.94 2.06-2.06.94zm-11 1L8.5 8.5l.94-2.06 2.06-.94-2.06-.94L8.5 2.5l-.94 2.06-2.06.94zm10 10l.94 2.06.94-2.06 2.06-.94-2.06-.94-.94-2.06-.94 2.06-2.06.94z\"/><path d=\"M17.41 7.96l-1.37-1.37c-.4-.4-.92-.59-1.43-.59-.52 0-1.04.2-1.43.59L10.3 9.45l-7.72 7.72c-.78.78-.78 2.05 0 2.83L4 21.41c.39.39.9.59 1.41.59.51 0 1.02-.2 1.41-.59l7.78-7.78 2.81-2.81c.8-.78.8-2.07 0-2.86zM5.41 20L4 18.59l7.72-7.72 1.47 1.35L5.41 20z\"/>\n",
              "  </svg>\n",
              "      </button>\n",
              "      \n",
              "  <style>\n",
              "    .colab-df-container {\n",
              "      display:flex;\n",
              "      flex-wrap:wrap;\n",
              "      gap: 12px;\n",
              "    }\n",
              "\n",
              "    .colab-df-convert {\n",
              "      background-color: #E8F0FE;\n",
              "      border: none;\n",
              "      border-radius: 50%;\n",
              "      cursor: pointer;\n",
              "      display: none;\n",
              "      fill: #1967D2;\n",
              "      height: 32px;\n",
              "      padding: 0 0 0 0;\n",
              "      width: 32px;\n",
              "    }\n",
              "\n",
              "    .colab-df-convert:hover {\n",
              "      background-color: #E2EBFA;\n",
              "      box-shadow: 0px 1px 2px rgba(60, 64, 67, 0.3), 0px 1px 3px 1px rgba(60, 64, 67, 0.15);\n",
              "      fill: #174EA6;\n",
              "    }\n",
              "\n",
              "    [theme=dark] .colab-df-convert {\n",
              "      background-color: #3B4455;\n",
              "      fill: #D2E3FC;\n",
              "    }\n",
              "\n",
              "    [theme=dark] .colab-df-convert:hover {\n",
              "      background-color: #434B5C;\n",
              "      box-shadow: 0px 1px 3px 1px rgba(0, 0, 0, 0.15);\n",
              "      filter: drop-shadow(0px 1px 2px rgba(0, 0, 0, 0.3));\n",
              "      fill: #FFFFFF;\n",
              "    }\n",
              "  </style>\n",
              "\n",
              "      <script>\n",
              "        const buttonEl =\n",
              "          document.querySelector('#df-a1aa0485-8fb8-4117-b895-442e3f8d2c18 button.colab-df-convert');\n",
              "        buttonEl.style.display =\n",
              "          google.colab.kernel.accessAllowed ? 'block' : 'none';\n",
              "\n",
              "        async function convertToInteractive(key) {\n",
              "          const element = document.querySelector('#df-a1aa0485-8fb8-4117-b895-442e3f8d2c18');\n",
              "          const dataTable =\n",
              "            await google.colab.kernel.invokeFunction('convertToInteractive',\n",
              "                                                     [key], {});\n",
              "          if (!dataTable) return;\n",
              "\n",
              "          const docLinkHtml = 'Like what you see? Visit the ' +\n",
              "            '<a target=\"_blank\" href=https://colab.research.google.com/notebooks/data_table.ipynb>data table notebook</a>'\n",
              "            + ' to learn more about interactive tables.';\n",
              "          element.innerHTML = '';\n",
              "          dataTable['output_type'] = 'display_data';\n",
              "          await google.colab.output.renderOutput(dataTable, element);\n",
              "          const docLink = document.createElement('div');\n",
              "          docLink.innerHTML = docLinkHtml;\n",
              "          element.appendChild(docLink);\n",
              "        }\n",
              "      </script>\n",
              "    </div>\n",
              "  </div>\n",
              "  "
            ]
          },
          "metadata": {},
          "execution_count": 15
        }
      ]
    },
    {
      "cell_type": "markdown",
      "source": [
        "**Question 4**"
      ],
      "metadata": {
        "id": "LWWzTwGBYU3N"
      }
    },
    {
      "cell_type": "code",
      "source": [
        "Alumni_null = top_uni[\"Alumni Employment Rank\"] == 0.0"
      ],
      "metadata": {
        "id": "zpGiPC7TaKB1"
      },
      "execution_count": 16,
      "outputs": []
    },
    {
      "cell_type": "markdown",
      "source": [
        "The total number of null values in column \"Alumni Employment Rank\""
      ],
      "metadata": {
        "id": "hbAW3lk2f0Yd"
      }
    },
    {
      "cell_type": "code",
      "source": [
        "Alumni_null.sum()"
      ],
      "metadata": {
        "colab": {
          "base_uri": "https://localhost:8080/"
        },
        "id": "TWyJDOgHfsJT",
        "outputId": "91a189e1-e032-4b7e-fb1b-a1f31f9743f4"
      },
      "execution_count": 17,
      "outputs": [
        {
          "output_type": "execute_result",
          "data": {
            "text/plain": [
              "0"
            ]
          },
          "metadata": {},
          "execution_count": 17
        }
      ]
    },
    {
      "cell_type": "code",
      "source": [
        "sorted_q4 = top_uni.sort_values(by=['Alumni Employment Rank'], ascending=True).head(10)"
      ],
      "metadata": {
        "id": "w_UIU6E6JW_5"
      },
      "execution_count": 18,
      "outputs": []
    },
    {
      "cell_type": "code",
      "source": [
        "sorted_q4"
      ],
      "metadata": {
        "id": "k16sc0YnYgfo",
        "colab": {
          "base_uri": "https://localhost:8080/",
          "height": 459
        },
        "outputId": "a159fc8e-8164-4f20-b2b3-089c0e33c272"
      },
      "execution_count": 19,
      "outputs": [
        {
          "output_type": "execute_result",
          "data": {
            "text/plain": [
              "    World Rank                            Institution Country  National Rank  \\\n",
              "0            1                     Harvard University     USA              1   \n",
              "2            3                    Stanford University     USA              3   \n",
              "12          13                    University of Tokyo   Japan              1   \n",
              "40          41        Institut Polytechnique de Paris  France              4   \n",
              "8            9             University of Pennsylvania     USA              7   \n",
              "1            2  Massachusetts Institute of Technology     USA              2   \n",
              "6            7                    Columbia University     USA              5   \n",
              "5            6                   Princeton University     USA              4   \n",
              "7            8                  University of Chicago     USA              6   \n",
              "39          40                      Dartmouth College     USA             25   \n",
              "\n",
              "    Quality of Education Rank  Alumni Employment Rank  \\\n",
              "0                         1.0                     1.0   \n",
              "2                        10.0                     4.0   \n",
              "12                       39.0                     6.0   \n",
              "40                      100.0                     8.0   \n",
              "8                        14.0                    10.0   \n",
              "1                         4.0                    12.0   \n",
              "6                        11.0                    14.0   \n",
              "5                         5.0                    15.0   \n",
              "7                         8.0                    16.0   \n",
              "39                       53.0                    17.0   \n",
              "\n",
              "    Quality of Faculty Rank  Research Performance Rank  Score  \n",
              "0                       1.0                        1.0  100.0  \n",
              "2                       3.0                        2.0   95.1  \n",
              "12                    107.0                       27.0   89.8  \n",
              "40                    219.0                      316.0   85.4  \n",
              "8                      42.0                       12.0   91.1  \n",
              "1                       2.0                        8.0   96.7  \n",
              "6                      10.0                       15.0   92.0  \n",
              "5                       7.0                       70.0   92.6  \n",
              "7                      27.0                       22.0   91.5  \n",
              "39                     95.0                      273.0   85.5  "
            ],
            "text/html": [
              "\n",
              "  <div id=\"df-d4b73742-8237-45f2-95f5-a241ac01cc67\">\n",
              "    <div class=\"colab-df-container\">\n",
              "      <div>\n",
              "<style scoped>\n",
              "    .dataframe tbody tr th:only-of-type {\n",
              "        vertical-align: middle;\n",
              "    }\n",
              "\n",
              "    .dataframe tbody tr th {\n",
              "        vertical-align: top;\n",
              "    }\n",
              "\n",
              "    .dataframe thead th {\n",
              "        text-align: right;\n",
              "    }\n",
              "</style>\n",
              "<table border=\"1\" class=\"dataframe\">\n",
              "  <thead>\n",
              "    <tr style=\"text-align: right;\">\n",
              "      <th></th>\n",
              "      <th>World Rank</th>\n",
              "      <th>Institution</th>\n",
              "      <th>Country</th>\n",
              "      <th>National Rank</th>\n",
              "      <th>Quality of Education Rank</th>\n",
              "      <th>Alumni Employment Rank</th>\n",
              "      <th>Quality of Faculty Rank</th>\n",
              "      <th>Research Performance Rank</th>\n",
              "      <th>Score</th>\n",
              "    </tr>\n",
              "  </thead>\n",
              "  <tbody>\n",
              "    <tr>\n",
              "      <th>0</th>\n",
              "      <td>1</td>\n",
              "      <td>Harvard University</td>\n",
              "      <td>USA</td>\n",
              "      <td>1</td>\n",
              "      <td>1.0</td>\n",
              "      <td>1.0</td>\n",
              "      <td>1.0</td>\n",
              "      <td>1.0</td>\n",
              "      <td>100.0</td>\n",
              "    </tr>\n",
              "    <tr>\n",
              "      <th>2</th>\n",
              "      <td>3</td>\n",
              "      <td>Stanford University</td>\n",
              "      <td>USA</td>\n",
              "      <td>3</td>\n",
              "      <td>10.0</td>\n",
              "      <td>4.0</td>\n",
              "      <td>3.0</td>\n",
              "      <td>2.0</td>\n",
              "      <td>95.1</td>\n",
              "    </tr>\n",
              "    <tr>\n",
              "      <th>12</th>\n",
              "      <td>13</td>\n",
              "      <td>University of Tokyo</td>\n",
              "      <td>Japan</td>\n",
              "      <td>1</td>\n",
              "      <td>39.0</td>\n",
              "      <td>6.0</td>\n",
              "      <td>107.0</td>\n",
              "      <td>27.0</td>\n",
              "      <td>89.8</td>\n",
              "    </tr>\n",
              "    <tr>\n",
              "      <th>40</th>\n",
              "      <td>41</td>\n",
              "      <td>Institut Polytechnique de Paris</td>\n",
              "      <td>France</td>\n",
              "      <td>4</td>\n",
              "      <td>100.0</td>\n",
              "      <td>8.0</td>\n",
              "      <td>219.0</td>\n",
              "      <td>316.0</td>\n",
              "      <td>85.4</td>\n",
              "    </tr>\n",
              "    <tr>\n",
              "      <th>8</th>\n",
              "      <td>9</td>\n",
              "      <td>University of Pennsylvania</td>\n",
              "      <td>USA</td>\n",
              "      <td>7</td>\n",
              "      <td>14.0</td>\n",
              "      <td>10.0</td>\n",
              "      <td>42.0</td>\n",
              "      <td>12.0</td>\n",
              "      <td>91.1</td>\n",
              "    </tr>\n",
              "    <tr>\n",
              "      <th>1</th>\n",
              "      <td>2</td>\n",
              "      <td>Massachusetts Institute of Technology</td>\n",
              "      <td>USA</td>\n",
              "      <td>2</td>\n",
              "      <td>4.0</td>\n",
              "      <td>12.0</td>\n",
              "      <td>2.0</td>\n",
              "      <td>8.0</td>\n",
              "      <td>96.7</td>\n",
              "    </tr>\n",
              "    <tr>\n",
              "      <th>6</th>\n",
              "      <td>7</td>\n",
              "      <td>Columbia University</td>\n",
              "      <td>USA</td>\n",
              "      <td>5</td>\n",
              "      <td>11.0</td>\n",
              "      <td>14.0</td>\n",
              "      <td>10.0</td>\n",
              "      <td>15.0</td>\n",
              "      <td>92.0</td>\n",
              "    </tr>\n",
              "    <tr>\n",
              "      <th>5</th>\n",
              "      <td>6</td>\n",
              "      <td>Princeton University</td>\n",
              "      <td>USA</td>\n",
              "      <td>4</td>\n",
              "      <td>5.0</td>\n",
              "      <td>15.0</td>\n",
              "      <td>7.0</td>\n",
              "      <td>70.0</td>\n",
              "      <td>92.6</td>\n",
              "    </tr>\n",
              "    <tr>\n",
              "      <th>7</th>\n",
              "      <td>8</td>\n",
              "      <td>University of Chicago</td>\n",
              "      <td>USA</td>\n",
              "      <td>6</td>\n",
              "      <td>8.0</td>\n",
              "      <td>16.0</td>\n",
              "      <td>27.0</td>\n",
              "      <td>22.0</td>\n",
              "      <td>91.5</td>\n",
              "    </tr>\n",
              "    <tr>\n",
              "      <th>39</th>\n",
              "      <td>40</td>\n",
              "      <td>Dartmouth College</td>\n",
              "      <td>USA</td>\n",
              "      <td>25</td>\n",
              "      <td>53.0</td>\n",
              "      <td>17.0</td>\n",
              "      <td>95.0</td>\n",
              "      <td>273.0</td>\n",
              "      <td>85.5</td>\n",
              "    </tr>\n",
              "  </tbody>\n",
              "</table>\n",
              "</div>\n",
              "      <button class=\"colab-df-convert\" onclick=\"convertToInteractive('df-d4b73742-8237-45f2-95f5-a241ac01cc67')\"\n",
              "              title=\"Convert this dataframe to an interactive table.\"\n",
              "              style=\"display:none;\">\n",
              "        \n",
              "  <svg xmlns=\"http://www.w3.org/2000/svg\" height=\"24px\"viewBox=\"0 0 24 24\"\n",
              "       width=\"24px\">\n",
              "    <path d=\"M0 0h24v24H0V0z\" fill=\"none\"/>\n",
              "    <path d=\"M18.56 5.44l.94 2.06.94-2.06 2.06-.94-2.06-.94-.94-2.06-.94 2.06-2.06.94zm-11 1L8.5 8.5l.94-2.06 2.06-.94-2.06-.94L8.5 2.5l-.94 2.06-2.06.94zm10 10l.94 2.06.94-2.06 2.06-.94-2.06-.94-.94-2.06-.94 2.06-2.06.94z\"/><path d=\"M17.41 7.96l-1.37-1.37c-.4-.4-.92-.59-1.43-.59-.52 0-1.04.2-1.43.59L10.3 9.45l-7.72 7.72c-.78.78-.78 2.05 0 2.83L4 21.41c.39.39.9.59 1.41.59.51 0 1.02-.2 1.41-.59l7.78-7.78 2.81-2.81c.8-.78.8-2.07 0-2.86zM5.41 20L4 18.59l7.72-7.72 1.47 1.35L5.41 20z\"/>\n",
              "  </svg>\n",
              "      </button>\n",
              "      \n",
              "  <style>\n",
              "    .colab-df-container {\n",
              "      display:flex;\n",
              "      flex-wrap:wrap;\n",
              "      gap: 12px;\n",
              "    }\n",
              "\n",
              "    .colab-df-convert {\n",
              "      background-color: #E8F0FE;\n",
              "      border: none;\n",
              "      border-radius: 50%;\n",
              "      cursor: pointer;\n",
              "      display: none;\n",
              "      fill: #1967D2;\n",
              "      height: 32px;\n",
              "      padding: 0 0 0 0;\n",
              "      width: 32px;\n",
              "    }\n",
              "\n",
              "    .colab-df-convert:hover {\n",
              "      background-color: #E2EBFA;\n",
              "      box-shadow: 0px 1px 2px rgba(60, 64, 67, 0.3), 0px 1px 3px 1px rgba(60, 64, 67, 0.15);\n",
              "      fill: #174EA6;\n",
              "    }\n",
              "\n",
              "    [theme=dark] .colab-df-convert {\n",
              "      background-color: #3B4455;\n",
              "      fill: #D2E3FC;\n",
              "    }\n",
              "\n",
              "    [theme=dark] .colab-df-convert:hover {\n",
              "      background-color: #434B5C;\n",
              "      box-shadow: 0px 1px 3px 1px rgba(0, 0, 0, 0.15);\n",
              "      filter: drop-shadow(0px 1px 2px rgba(0, 0, 0, 0.3));\n",
              "      fill: #FFFFFF;\n",
              "    }\n",
              "  </style>\n",
              "\n",
              "      <script>\n",
              "        const buttonEl =\n",
              "          document.querySelector('#df-d4b73742-8237-45f2-95f5-a241ac01cc67 button.colab-df-convert');\n",
              "        buttonEl.style.display =\n",
              "          google.colab.kernel.accessAllowed ? 'block' : 'none';\n",
              "\n",
              "        async function convertToInteractive(key) {\n",
              "          const element = document.querySelector('#df-d4b73742-8237-45f2-95f5-a241ac01cc67');\n",
              "          const dataTable =\n",
              "            await google.colab.kernel.invokeFunction('convertToInteractive',\n",
              "                                                     [key], {});\n",
              "          if (!dataTable) return;\n",
              "\n",
              "          const docLinkHtml = 'Like what you see? Visit the ' +\n",
              "            '<a target=\"_blank\" href=https://colab.research.google.com/notebooks/data_table.ipynb>data table notebook</a>'\n",
              "            + ' to learn more about interactive tables.';\n",
              "          element.innerHTML = '';\n",
              "          dataTable['output_type'] = 'display_data';\n",
              "          await google.colab.output.renderOutput(dataTable, element);\n",
              "          const docLink = document.createElement('div');\n",
              "          docLink.innerHTML = docLinkHtml;\n",
              "          element.appendChild(docLink);\n",
              "        }\n",
              "      </script>\n",
              "    </div>\n",
              "  </div>\n",
              "  "
            ]
          },
          "metadata": {},
          "execution_count": 19
        }
      ]
    },
    {
      "cell_type": "code",
      "source": [
        "print(sorted_q4[\"Country\"].nunique())\n",
        "print(sorted_q4[\"Country\"].unique())"
      ],
      "metadata": {
        "colab": {
          "base_uri": "https://localhost:8080/"
        },
        "id": "dRKrk0ZsSs8N",
        "outputId": "7dd34ca4-080a-474a-b836-93ed5b365020"
      },
      "execution_count": 20,
      "outputs": [
        {
          "output_type": "stream",
          "name": "stdout",
          "text": [
            "3\n",
            "['USA' 'Japan' 'France']\n"
          ]
        }
      ]
    },
    {
      "cell_type": "markdown",
      "source": [
        "**Question 5**"
      ],
      "metadata": {
        "id": "--9O-8OhT5XG"
      }
    },
    {
      "cell_type": "code",
      "source": [
        "filter_uni = top_uni.filter(['World Rank','Score','Institution'])\n"
      ],
      "metadata": {
        "id": "gd0Fl7EeT6nr"
      },
      "execution_count": 21,
      "outputs": []
    },
    {
      "cell_type": "code",
      "source": [
        "#incorrect\n",
        "#Uni_USA = filter_uni.filter[\"Country\" == USA]\n",
        "#Uni_USA = filter_uni.filter[\"Country\" == 'USA']\n",
        "#Uni_USA = filter_uni.filter[\"Country\"] == 'USA'\n",
        "#Uni_USA = filter_uni[\"Country\"] == 'USA'\n",
        "#Uni_USA = filter_uni[\"Country\"] == USA\n",
        "#That works:\n",
        "#df[df.maker == 'skoda']"
      ],
      "metadata": {
        "id": "5UoQFV8rYgo8"
      },
      "execution_count": 22,
      "outputs": []
    },
    {
      "cell_type": "code",
      "source": [
        "filter_uni[top_uni.Country == 'USA']"
      ],
      "metadata": {
        "colab": {
          "base_uri": "https://localhost:8080/",
          "height": 424
        },
        "id": "8ujIRe-IYCaZ",
        "outputId": "2e0579ae-0edf-44b4-ac13-72de9cf6560e"
      },
      "execution_count": 23,
      "outputs": [
        {
          "output_type": "execute_result",
          "data": {
            "text/plain": [
              "     World Rank  Score                            Institution\n",
              "0             1  100.0                     Harvard University\n",
              "1             2   96.7  Massachusetts Institute of Technology\n",
              "2             3   95.1                    Stanford University\n",
              "5             6   92.6                   Princeton University\n",
              "6             7   92.0                    Columbia University\n",
              "..          ...    ...                                    ...\n",
              "402         403   75.2             University at Albany, SUNY\n",
              "652         653   72.7                  Binghamton University\n",
              "679         680   72.5             University of Maine, Orono\n",
              "927         928   70.7                  Pepperdine University\n",
              "958         959   70.5                         Pomona College\n",
              "\n",
              "[69 rows x 3 columns]"
            ],
            "text/html": [
              "\n",
              "  <div id=\"df-109ece63-fe1f-4964-9268-82f93a38f0a6\">\n",
              "    <div class=\"colab-df-container\">\n",
              "      <div>\n",
              "<style scoped>\n",
              "    .dataframe tbody tr th:only-of-type {\n",
              "        vertical-align: middle;\n",
              "    }\n",
              "\n",
              "    .dataframe tbody tr th {\n",
              "        vertical-align: top;\n",
              "    }\n",
              "\n",
              "    .dataframe thead th {\n",
              "        text-align: right;\n",
              "    }\n",
              "</style>\n",
              "<table border=\"1\" class=\"dataframe\">\n",
              "  <thead>\n",
              "    <tr style=\"text-align: right;\">\n",
              "      <th></th>\n",
              "      <th>World Rank</th>\n",
              "      <th>Score</th>\n",
              "      <th>Institution</th>\n",
              "    </tr>\n",
              "  </thead>\n",
              "  <tbody>\n",
              "    <tr>\n",
              "      <th>0</th>\n",
              "      <td>1</td>\n",
              "      <td>100.0</td>\n",
              "      <td>Harvard University</td>\n",
              "    </tr>\n",
              "    <tr>\n",
              "      <th>1</th>\n",
              "      <td>2</td>\n",
              "      <td>96.7</td>\n",
              "      <td>Massachusetts Institute of Technology</td>\n",
              "    </tr>\n",
              "    <tr>\n",
              "      <th>2</th>\n",
              "      <td>3</td>\n",
              "      <td>95.1</td>\n",
              "      <td>Stanford University</td>\n",
              "    </tr>\n",
              "    <tr>\n",
              "      <th>5</th>\n",
              "      <td>6</td>\n",
              "      <td>92.6</td>\n",
              "      <td>Princeton University</td>\n",
              "    </tr>\n",
              "    <tr>\n",
              "      <th>6</th>\n",
              "      <td>7</td>\n",
              "      <td>92.0</td>\n",
              "      <td>Columbia University</td>\n",
              "    </tr>\n",
              "    <tr>\n",
              "      <th>...</th>\n",
              "      <td>...</td>\n",
              "      <td>...</td>\n",
              "      <td>...</td>\n",
              "    </tr>\n",
              "    <tr>\n",
              "      <th>402</th>\n",
              "      <td>403</td>\n",
              "      <td>75.2</td>\n",
              "      <td>University at Albany, SUNY</td>\n",
              "    </tr>\n",
              "    <tr>\n",
              "      <th>652</th>\n",
              "      <td>653</td>\n",
              "      <td>72.7</td>\n",
              "      <td>Binghamton University</td>\n",
              "    </tr>\n",
              "    <tr>\n",
              "      <th>679</th>\n",
              "      <td>680</td>\n",
              "      <td>72.5</td>\n",
              "      <td>University of Maine, Orono</td>\n",
              "    </tr>\n",
              "    <tr>\n",
              "      <th>927</th>\n",
              "      <td>928</td>\n",
              "      <td>70.7</td>\n",
              "      <td>Pepperdine University</td>\n",
              "    </tr>\n",
              "    <tr>\n",
              "      <th>958</th>\n",
              "      <td>959</td>\n",
              "      <td>70.5</td>\n",
              "      <td>Pomona College</td>\n",
              "    </tr>\n",
              "  </tbody>\n",
              "</table>\n",
              "<p>69 rows × 3 columns</p>\n",
              "</div>\n",
              "      <button class=\"colab-df-convert\" onclick=\"convertToInteractive('df-109ece63-fe1f-4964-9268-82f93a38f0a6')\"\n",
              "              title=\"Convert this dataframe to an interactive table.\"\n",
              "              style=\"display:none;\">\n",
              "        \n",
              "  <svg xmlns=\"http://www.w3.org/2000/svg\" height=\"24px\"viewBox=\"0 0 24 24\"\n",
              "       width=\"24px\">\n",
              "    <path d=\"M0 0h24v24H0V0z\" fill=\"none\"/>\n",
              "    <path d=\"M18.56 5.44l.94 2.06.94-2.06 2.06-.94-2.06-.94-.94-2.06-.94 2.06-2.06.94zm-11 1L8.5 8.5l.94-2.06 2.06-.94-2.06-.94L8.5 2.5l-.94 2.06-2.06.94zm10 10l.94 2.06.94-2.06 2.06-.94-2.06-.94-.94-2.06-.94 2.06-2.06.94z\"/><path d=\"M17.41 7.96l-1.37-1.37c-.4-.4-.92-.59-1.43-.59-.52 0-1.04.2-1.43.59L10.3 9.45l-7.72 7.72c-.78.78-.78 2.05 0 2.83L4 21.41c.39.39.9.59 1.41.59.51 0 1.02-.2 1.41-.59l7.78-7.78 2.81-2.81c.8-.78.8-2.07 0-2.86zM5.41 20L4 18.59l7.72-7.72 1.47 1.35L5.41 20z\"/>\n",
              "  </svg>\n",
              "      </button>\n",
              "      \n",
              "  <style>\n",
              "    .colab-df-container {\n",
              "      display:flex;\n",
              "      flex-wrap:wrap;\n",
              "      gap: 12px;\n",
              "    }\n",
              "\n",
              "    .colab-df-convert {\n",
              "      background-color: #E8F0FE;\n",
              "      border: none;\n",
              "      border-radius: 50%;\n",
              "      cursor: pointer;\n",
              "      display: none;\n",
              "      fill: #1967D2;\n",
              "      height: 32px;\n",
              "      padding: 0 0 0 0;\n",
              "      width: 32px;\n",
              "    }\n",
              "\n",
              "    .colab-df-convert:hover {\n",
              "      background-color: #E2EBFA;\n",
              "      box-shadow: 0px 1px 2px rgba(60, 64, 67, 0.3), 0px 1px 3px 1px rgba(60, 64, 67, 0.15);\n",
              "      fill: #174EA6;\n",
              "    }\n",
              "\n",
              "    [theme=dark] .colab-df-convert {\n",
              "      background-color: #3B4455;\n",
              "      fill: #D2E3FC;\n",
              "    }\n",
              "\n",
              "    [theme=dark] .colab-df-convert:hover {\n",
              "      background-color: #434B5C;\n",
              "      box-shadow: 0px 1px 3px 1px rgba(0, 0, 0, 0.15);\n",
              "      filter: drop-shadow(0px 1px 2px rgba(0, 0, 0, 0.3));\n",
              "      fill: #FFFFFF;\n",
              "    }\n",
              "  </style>\n",
              "\n",
              "      <script>\n",
              "        const buttonEl =\n",
              "          document.querySelector('#df-109ece63-fe1f-4964-9268-82f93a38f0a6 button.colab-df-convert');\n",
              "        buttonEl.style.display =\n",
              "          google.colab.kernel.accessAllowed ? 'block' : 'none';\n",
              "\n",
              "        async function convertToInteractive(key) {\n",
              "          const element = document.querySelector('#df-109ece63-fe1f-4964-9268-82f93a38f0a6');\n",
              "          const dataTable =\n",
              "            await google.colab.kernel.invokeFunction('convertToInteractive',\n",
              "                                                     [key], {});\n",
              "          if (!dataTable) return;\n",
              "\n",
              "          const docLinkHtml = 'Like what you see? Visit the ' +\n",
              "            '<a target=\"_blank\" href=https://colab.research.google.com/notebooks/data_table.ipynb>data table notebook</a>'\n",
              "            + ' to learn more about interactive tables.';\n",
              "          element.innerHTML = '';\n",
              "          dataTable['output_type'] = 'display_data';\n",
              "          await google.colab.output.renderOutput(dataTable, element);\n",
              "          const docLink = document.createElement('div');\n",
              "          docLink.innerHTML = docLinkHtml;\n",
              "          element.appendChild(docLink);\n",
              "        }\n",
              "      </script>\n",
              "    </div>\n",
              "  </div>\n",
              "  "
            ]
          },
          "metadata": {},
          "execution_count": 23
        }
      ]
    },
    {
      "cell_type": "markdown",
      "source": [
        "**Question 6** "
      ],
      "metadata": {
        "id": "kCWjCB7wdFDM"
      }
    },
    {
      "cell_type": "code",
      "source": [
        "grouped_uni = top_uni.groupby('Country')"
      ],
      "metadata": {
        "id": "lfKtGKypdGiP"
      },
      "execution_count": 24,
      "outputs": []
    },
    {
      "cell_type": "code",
      "source": [
        "grouped_uni.mean()"
      ],
      "metadata": {
        "colab": {
          "base_uri": "https://localhost:8080/",
          "height": 1000
        },
        "id": "oGi-jL5JdTNV",
        "outputId": "91f71338-faf8-4647-ac84-f2b15cba97fc"
      },
      "execution_count": 25,
      "outputs": [
        {
          "output_type": "execute_result",
          "data": {
            "text/plain": [
              "                 World Rank  National Rank  Quality of Education Rank  \\\n",
              "Country                                                                 \n",
              "Australia        113.250000       4.000000                 236.000000   \n",
              "Austria          385.000000       4.000000                 294.000000   \n",
              "Belgium          170.000000       3.000000                 390.000000   \n",
              "Brazil           105.000000       1.000000                 518.000000   \n",
              "Canada           131.625000       5.625000                 298.500000   \n",
              "China            187.000000      12.000000                 388.000000   \n",
              "Denmark          113.333333       2.000000                 235.000000   \n",
              "Finland          118.000000       1.000000                 202.000000   \n",
              "France            92.875000       5.750000                 191.125000   \n",
              "Germany          141.928571       9.785714                 167.214286   \n",
              "India           1097.000000      20.000000                 521.000000   \n",
              "Ireland          218.000000       1.000000                 206.000000   \n",
              "Israel           112.500000       2.500000                  69.500000   \n",
              "Italy            277.600000       9.200000                 421.400000   \n",
              "Japan            107.428571       4.714286                 166.714286   \n",
              "Mexico           287.000000       1.000000                 397.000000   \n",
              "Netherlands      105.000000       3.800000                 239.600000   \n",
              "New Zealand      516.000000       3.000000                 355.000000   \n",
              "Norway           129.500000       1.500000                 174.000000   \n",
              "Poland           837.000000       7.000000                 469.000000   \n",
              "Portugal         201.000000       1.000000                 428.000000   \n",
              "Russia           368.000000       4.500000                 137.500000   \n",
              "South Korea       31.000000       1.000000                 315.000000   \n",
              "Spain            247.000000       3.000000                 200.000000   \n",
              "Sweden           137.200000       4.000000                 229.400000   \n",
              "Switzerland      104.166667       3.833333                 113.166667   \n",
              "USA              133.753623      48.507246                 180.739130   \n",
              "United Kingdom   190.642857      16.928571                 199.178571   \n",
              "\n",
              "                Alumni Employment Rank  Quality of Faculty Rank  \\\n",
              "Country                                                           \n",
              "Australia                   574.750000               161.250000   \n",
              "Austria                     837.500000               160.000000   \n",
              "Belgium                     459.000000               183.000000   \n",
              "Brazil                      333.000000               131.000000   \n",
              "Canada                      403.625000               120.125000   \n",
              "China                      1241.000000               246.000000   \n",
              "Denmark                     476.000000               128.000000   \n",
              "Finland                     913.000000               167.000000   \n",
              "France                      545.375000               121.500000   \n",
              "Germany                     728.571429               119.000000   \n",
              "India                       591.000000               249.000000   \n",
              "Ireland                      83.000000               242.000000   \n",
              "Israel                      388.500000                49.500000   \n",
              "Italy                       757.200000               173.600000   \n",
              "Japan                       119.571429               107.571429   \n",
              "Mexico                     1462.000000               240.000000   \n",
              "Netherlands                 755.800000               152.200000   \n",
              "New Zealand                 425.000000               241.000000   \n",
              "Norway                      595.500000                67.000000   \n",
              "Poland                     1367.000000               260.000000   \n",
              "Portugal                   1204.000000               236.000000   \n",
              "Russia                      492.500000               232.500000   \n",
              "South Korea                  21.000000               135.000000   \n",
              "Spain                       166.000000               220.000000   \n",
              "Sweden                      344.200000               149.800000   \n",
              "Switzerland                 541.666667                93.000000   \n",
              "USA                         263.898551                97.869565   \n",
              "United Kingdom              455.678571               119.392857   \n",
              "\n",
              "                Research Performance Rank      Score  \n",
              "Country                                               \n",
              "Australia                       90.250000  81.425000  \n",
              "Austria                        466.000000  76.000000  \n",
              "Belgium                        163.000000  79.550000  \n",
              "Brazil                          85.000000  81.500000  \n",
              "Canada                         128.000000  82.025000  \n",
              "China                          144.000000  79.000000  \n",
              "Denmark                         99.666667  82.033333  \n",
              "Finland                         88.000000  81.000000  \n",
              "France                         137.500000  83.537500  \n",
              "Germany                        163.285714  80.828571  \n",
              "India                         1183.000000  69.700000  \n",
              "Ireland                        286.000000  78.300000  \n",
              "Israel                         216.000000  81.650000  \n",
              "Italy                          305.400000  77.400000  \n",
              "Japan                          151.571429  82.671429  \n",
              "Mexico                         270.000000  76.900000  \n",
              "Netherlands                     84.400000  81.740000  \n",
              "New Zealand                    553.000000  74.000000  \n",
              "Norway                         183.000000  81.000000  \n",
              "Poland                         865.000000  71.300000  \n",
              "Portugal                       169.000000  78.600000  \n",
              "Russia                         391.000000  76.250000  \n",
              "South Korea                     58.000000  86.500000  \n",
              "Spain                          280.000000  77.700000  \n",
              "Sweden                         154.800000  80.480000  \n",
              "Switzerland                    120.333333  82.183333  \n",
              "USA                            137.768116  83.571014  \n",
              "United Kingdom                 222.500000  80.903571  "
            ],
            "text/html": [
              "\n",
              "  <div id=\"df-77ecd8b6-6c1c-4198-bbe3-00afa35ec42c\">\n",
              "    <div class=\"colab-df-container\">\n",
              "      <div>\n",
              "<style scoped>\n",
              "    .dataframe tbody tr th:only-of-type {\n",
              "        vertical-align: middle;\n",
              "    }\n",
              "\n",
              "    .dataframe tbody tr th {\n",
              "        vertical-align: top;\n",
              "    }\n",
              "\n",
              "    .dataframe thead th {\n",
              "        text-align: right;\n",
              "    }\n",
              "</style>\n",
              "<table border=\"1\" class=\"dataframe\">\n",
              "  <thead>\n",
              "    <tr style=\"text-align: right;\">\n",
              "      <th></th>\n",
              "      <th>World Rank</th>\n",
              "      <th>National Rank</th>\n",
              "      <th>Quality of Education Rank</th>\n",
              "      <th>Alumni Employment Rank</th>\n",
              "      <th>Quality of Faculty Rank</th>\n",
              "      <th>Research Performance Rank</th>\n",
              "      <th>Score</th>\n",
              "    </tr>\n",
              "    <tr>\n",
              "      <th>Country</th>\n",
              "      <th></th>\n",
              "      <th></th>\n",
              "      <th></th>\n",
              "      <th></th>\n",
              "      <th></th>\n",
              "      <th></th>\n",
              "      <th></th>\n",
              "    </tr>\n",
              "  </thead>\n",
              "  <tbody>\n",
              "    <tr>\n",
              "      <th>Australia</th>\n",
              "      <td>113.250000</td>\n",
              "      <td>4.000000</td>\n",
              "      <td>236.000000</td>\n",
              "      <td>574.750000</td>\n",
              "      <td>161.250000</td>\n",
              "      <td>90.250000</td>\n",
              "      <td>81.425000</td>\n",
              "    </tr>\n",
              "    <tr>\n",
              "      <th>Austria</th>\n",
              "      <td>385.000000</td>\n",
              "      <td>4.000000</td>\n",
              "      <td>294.000000</td>\n",
              "      <td>837.500000</td>\n",
              "      <td>160.000000</td>\n",
              "      <td>466.000000</td>\n",
              "      <td>76.000000</td>\n",
              "    </tr>\n",
              "    <tr>\n",
              "      <th>Belgium</th>\n",
              "      <td>170.000000</td>\n",
              "      <td>3.000000</td>\n",
              "      <td>390.000000</td>\n",
              "      <td>459.000000</td>\n",
              "      <td>183.000000</td>\n",
              "      <td>163.000000</td>\n",
              "      <td>79.550000</td>\n",
              "    </tr>\n",
              "    <tr>\n",
              "      <th>Brazil</th>\n",
              "      <td>105.000000</td>\n",
              "      <td>1.000000</td>\n",
              "      <td>518.000000</td>\n",
              "      <td>333.000000</td>\n",
              "      <td>131.000000</td>\n",
              "      <td>85.000000</td>\n",
              "      <td>81.500000</td>\n",
              "    </tr>\n",
              "    <tr>\n",
              "      <th>Canada</th>\n",
              "      <td>131.625000</td>\n",
              "      <td>5.625000</td>\n",
              "      <td>298.500000</td>\n",
              "      <td>403.625000</td>\n",
              "      <td>120.125000</td>\n",
              "      <td>128.000000</td>\n",
              "      <td>82.025000</td>\n",
              "    </tr>\n",
              "    <tr>\n",
              "      <th>China</th>\n",
              "      <td>187.000000</td>\n",
              "      <td>12.000000</td>\n",
              "      <td>388.000000</td>\n",
              "      <td>1241.000000</td>\n",
              "      <td>246.000000</td>\n",
              "      <td>144.000000</td>\n",
              "      <td>79.000000</td>\n",
              "    </tr>\n",
              "    <tr>\n",
              "      <th>Denmark</th>\n",
              "      <td>113.333333</td>\n",
              "      <td>2.000000</td>\n",
              "      <td>235.000000</td>\n",
              "      <td>476.000000</td>\n",
              "      <td>128.000000</td>\n",
              "      <td>99.666667</td>\n",
              "      <td>82.033333</td>\n",
              "    </tr>\n",
              "    <tr>\n",
              "      <th>Finland</th>\n",
              "      <td>118.000000</td>\n",
              "      <td>1.000000</td>\n",
              "      <td>202.000000</td>\n",
              "      <td>913.000000</td>\n",
              "      <td>167.000000</td>\n",
              "      <td>88.000000</td>\n",
              "      <td>81.000000</td>\n",
              "    </tr>\n",
              "    <tr>\n",
              "      <th>France</th>\n",
              "      <td>92.875000</td>\n",
              "      <td>5.750000</td>\n",
              "      <td>191.125000</td>\n",
              "      <td>545.375000</td>\n",
              "      <td>121.500000</td>\n",
              "      <td>137.500000</td>\n",
              "      <td>83.537500</td>\n",
              "    </tr>\n",
              "    <tr>\n",
              "      <th>Germany</th>\n",
              "      <td>141.928571</td>\n",
              "      <td>9.785714</td>\n",
              "      <td>167.214286</td>\n",
              "      <td>728.571429</td>\n",
              "      <td>119.000000</td>\n",
              "      <td>163.285714</td>\n",
              "      <td>80.828571</td>\n",
              "    </tr>\n",
              "    <tr>\n",
              "      <th>India</th>\n",
              "      <td>1097.000000</td>\n",
              "      <td>20.000000</td>\n",
              "      <td>521.000000</td>\n",
              "      <td>591.000000</td>\n",
              "      <td>249.000000</td>\n",
              "      <td>1183.000000</td>\n",
              "      <td>69.700000</td>\n",
              "    </tr>\n",
              "    <tr>\n",
              "      <th>Ireland</th>\n",
              "      <td>218.000000</td>\n",
              "      <td>1.000000</td>\n",
              "      <td>206.000000</td>\n",
              "      <td>83.000000</td>\n",
              "      <td>242.000000</td>\n",
              "      <td>286.000000</td>\n",
              "      <td>78.300000</td>\n",
              "    </tr>\n",
              "    <tr>\n",
              "      <th>Israel</th>\n",
              "      <td>112.500000</td>\n",
              "      <td>2.500000</td>\n",
              "      <td>69.500000</td>\n",
              "      <td>388.500000</td>\n",
              "      <td>49.500000</td>\n",
              "      <td>216.000000</td>\n",
              "      <td>81.650000</td>\n",
              "    </tr>\n",
              "    <tr>\n",
              "      <th>Italy</th>\n",
              "      <td>277.600000</td>\n",
              "      <td>9.200000</td>\n",
              "      <td>421.400000</td>\n",
              "      <td>757.200000</td>\n",
              "      <td>173.600000</td>\n",
              "      <td>305.400000</td>\n",
              "      <td>77.400000</td>\n",
              "    </tr>\n",
              "    <tr>\n",
              "      <th>Japan</th>\n",
              "      <td>107.428571</td>\n",
              "      <td>4.714286</td>\n",
              "      <td>166.714286</td>\n",
              "      <td>119.571429</td>\n",
              "      <td>107.571429</td>\n",
              "      <td>151.571429</td>\n",
              "      <td>82.671429</td>\n",
              "    </tr>\n",
              "    <tr>\n",
              "      <th>Mexico</th>\n",
              "      <td>287.000000</td>\n",
              "      <td>1.000000</td>\n",
              "      <td>397.000000</td>\n",
              "      <td>1462.000000</td>\n",
              "      <td>240.000000</td>\n",
              "      <td>270.000000</td>\n",
              "      <td>76.900000</td>\n",
              "    </tr>\n",
              "    <tr>\n",
              "      <th>Netherlands</th>\n",
              "      <td>105.000000</td>\n",
              "      <td>3.800000</td>\n",
              "      <td>239.600000</td>\n",
              "      <td>755.800000</td>\n",
              "      <td>152.200000</td>\n",
              "      <td>84.400000</td>\n",
              "      <td>81.740000</td>\n",
              "    </tr>\n",
              "    <tr>\n",
              "      <th>New Zealand</th>\n",
              "      <td>516.000000</td>\n",
              "      <td>3.000000</td>\n",
              "      <td>355.000000</td>\n",
              "      <td>425.000000</td>\n",
              "      <td>241.000000</td>\n",
              "      <td>553.000000</td>\n",
              "      <td>74.000000</td>\n",
              "    </tr>\n",
              "    <tr>\n",
              "      <th>Norway</th>\n",
              "      <td>129.500000</td>\n",
              "      <td>1.500000</td>\n",
              "      <td>174.000000</td>\n",
              "      <td>595.500000</td>\n",
              "      <td>67.000000</td>\n",
              "      <td>183.000000</td>\n",
              "      <td>81.000000</td>\n",
              "    </tr>\n",
              "    <tr>\n",
              "      <th>Poland</th>\n",
              "      <td>837.000000</td>\n",
              "      <td>7.000000</td>\n",
              "      <td>469.000000</td>\n",
              "      <td>1367.000000</td>\n",
              "      <td>260.000000</td>\n",
              "      <td>865.000000</td>\n",
              "      <td>71.300000</td>\n",
              "    </tr>\n",
              "    <tr>\n",
              "      <th>Portugal</th>\n",
              "      <td>201.000000</td>\n",
              "      <td>1.000000</td>\n",
              "      <td>428.000000</td>\n",
              "      <td>1204.000000</td>\n",
              "      <td>236.000000</td>\n",
              "      <td>169.000000</td>\n",
              "      <td>78.600000</td>\n",
              "    </tr>\n",
              "    <tr>\n",
              "      <th>Russia</th>\n",
              "      <td>368.000000</td>\n",
              "      <td>4.500000</td>\n",
              "      <td>137.500000</td>\n",
              "      <td>492.500000</td>\n",
              "      <td>232.500000</td>\n",
              "      <td>391.000000</td>\n",
              "      <td>76.250000</td>\n",
              "    </tr>\n",
              "    <tr>\n",
              "      <th>South Korea</th>\n",
              "      <td>31.000000</td>\n",
              "      <td>1.000000</td>\n",
              "      <td>315.000000</td>\n",
              "      <td>21.000000</td>\n",
              "      <td>135.000000</td>\n",
              "      <td>58.000000</td>\n",
              "      <td>86.500000</td>\n",
              "    </tr>\n",
              "    <tr>\n",
              "      <th>Spain</th>\n",
              "      <td>247.000000</td>\n",
              "      <td>3.000000</td>\n",
              "      <td>200.000000</td>\n",
              "      <td>166.000000</td>\n",
              "      <td>220.000000</td>\n",
              "      <td>280.000000</td>\n",
              "      <td>77.700000</td>\n",
              "    </tr>\n",
              "    <tr>\n",
              "      <th>Sweden</th>\n",
              "      <td>137.200000</td>\n",
              "      <td>4.000000</td>\n",
              "      <td>229.400000</td>\n",
              "      <td>344.200000</td>\n",
              "      <td>149.800000</td>\n",
              "      <td>154.800000</td>\n",
              "      <td>80.480000</td>\n",
              "    </tr>\n",
              "    <tr>\n",
              "      <th>Switzerland</th>\n",
              "      <td>104.166667</td>\n",
              "      <td>3.833333</td>\n",
              "      <td>113.166667</td>\n",
              "      <td>541.666667</td>\n",
              "      <td>93.000000</td>\n",
              "      <td>120.333333</td>\n",
              "      <td>82.183333</td>\n",
              "    </tr>\n",
              "    <tr>\n",
              "      <th>USA</th>\n",
              "      <td>133.753623</td>\n",
              "      <td>48.507246</td>\n",
              "      <td>180.739130</td>\n",
              "      <td>263.898551</td>\n",
              "      <td>97.869565</td>\n",
              "      <td>137.768116</td>\n",
              "      <td>83.571014</td>\n",
              "    </tr>\n",
              "    <tr>\n",
              "      <th>United Kingdom</th>\n",
              "      <td>190.642857</td>\n",
              "      <td>16.928571</td>\n",
              "      <td>199.178571</td>\n",
              "      <td>455.678571</td>\n",
              "      <td>119.392857</td>\n",
              "      <td>222.500000</td>\n",
              "      <td>80.903571</td>\n",
              "    </tr>\n",
              "  </tbody>\n",
              "</table>\n",
              "</div>\n",
              "      <button class=\"colab-df-convert\" onclick=\"convertToInteractive('df-77ecd8b6-6c1c-4198-bbe3-00afa35ec42c')\"\n",
              "              title=\"Convert this dataframe to an interactive table.\"\n",
              "              style=\"display:none;\">\n",
              "        \n",
              "  <svg xmlns=\"http://www.w3.org/2000/svg\" height=\"24px\"viewBox=\"0 0 24 24\"\n",
              "       width=\"24px\">\n",
              "    <path d=\"M0 0h24v24H0V0z\" fill=\"none\"/>\n",
              "    <path d=\"M18.56 5.44l.94 2.06.94-2.06 2.06-.94-2.06-.94-.94-2.06-.94 2.06-2.06.94zm-11 1L8.5 8.5l.94-2.06 2.06-.94-2.06-.94L8.5 2.5l-.94 2.06-2.06.94zm10 10l.94 2.06.94-2.06 2.06-.94-2.06-.94-.94-2.06-.94 2.06-2.06.94z\"/><path d=\"M17.41 7.96l-1.37-1.37c-.4-.4-.92-.59-1.43-.59-.52 0-1.04.2-1.43.59L10.3 9.45l-7.72 7.72c-.78.78-.78 2.05 0 2.83L4 21.41c.39.39.9.59 1.41.59.51 0 1.02-.2 1.41-.59l7.78-7.78 2.81-2.81c.8-.78.8-2.07 0-2.86zM5.41 20L4 18.59l7.72-7.72 1.47 1.35L5.41 20z\"/>\n",
              "  </svg>\n",
              "      </button>\n",
              "      \n",
              "  <style>\n",
              "    .colab-df-container {\n",
              "      display:flex;\n",
              "      flex-wrap:wrap;\n",
              "      gap: 12px;\n",
              "    }\n",
              "\n",
              "    .colab-df-convert {\n",
              "      background-color: #E8F0FE;\n",
              "      border: none;\n",
              "      border-radius: 50%;\n",
              "      cursor: pointer;\n",
              "      display: none;\n",
              "      fill: #1967D2;\n",
              "      height: 32px;\n",
              "      padding: 0 0 0 0;\n",
              "      width: 32px;\n",
              "    }\n",
              "\n",
              "    .colab-df-convert:hover {\n",
              "      background-color: #E2EBFA;\n",
              "      box-shadow: 0px 1px 2px rgba(60, 64, 67, 0.3), 0px 1px 3px 1px rgba(60, 64, 67, 0.15);\n",
              "      fill: #174EA6;\n",
              "    }\n",
              "\n",
              "    [theme=dark] .colab-df-convert {\n",
              "      background-color: #3B4455;\n",
              "      fill: #D2E3FC;\n",
              "    }\n",
              "\n",
              "    [theme=dark] .colab-df-convert:hover {\n",
              "      background-color: #434B5C;\n",
              "      box-shadow: 0px 1px 3px 1px rgba(0, 0, 0, 0.15);\n",
              "      filter: drop-shadow(0px 1px 2px rgba(0, 0, 0, 0.3));\n",
              "      fill: #FFFFFF;\n",
              "    }\n",
              "  </style>\n",
              "\n",
              "      <script>\n",
              "        const buttonEl =\n",
              "          document.querySelector('#df-77ecd8b6-6c1c-4198-bbe3-00afa35ec42c button.colab-df-convert');\n",
              "        buttonEl.style.display =\n",
              "          google.colab.kernel.accessAllowed ? 'block' : 'none';\n",
              "\n",
              "        async function convertToInteractive(key) {\n",
              "          const element = document.querySelector('#df-77ecd8b6-6c1c-4198-bbe3-00afa35ec42c');\n",
              "          const dataTable =\n",
              "            await google.colab.kernel.invokeFunction('convertToInteractive',\n",
              "                                                     [key], {});\n",
              "          if (!dataTable) return;\n",
              "\n",
              "          const docLinkHtml = 'Like what you see? Visit the ' +\n",
              "            '<a target=\"_blank\" href=https://colab.research.google.com/notebooks/data_table.ipynb>data table notebook</a>'\n",
              "            + ' to learn more about interactive tables.';\n",
              "          element.innerHTML = '';\n",
              "          dataTable['output_type'] = 'display_data';\n",
              "          await google.colab.output.renderOutput(dataTable, element);\n",
              "          const docLink = document.createElement('div');\n",
              "          docLink.innerHTML = docLinkHtml;\n",
              "          element.appendChild(docLink);\n",
              "        }\n",
              "      </script>\n",
              "    </div>\n",
              "  </div>\n",
              "  "
            ]
          },
          "metadata": {},
          "execution_count": 25
        }
      ]
    },
    {
      "cell_type": "markdown",
      "source": [
        "Accidently deleted all 'Pakistan' uni ⬆"
      ],
      "metadata": {
        "id": "f-tXraIdeot7"
      }
    },
    {
      "cell_type": "markdown",
      "source": [
        "**Question 7**"
      ],
      "metadata": {
        "id": "tBlody4yfLML"
      }
    },
    {
      "cell_type": "markdown",
      "source": [
        "2."
      ],
      "metadata": {
        "id": "QLyXO6yCvBX6"
      }
    },
    {
      "cell_type": "code",
      "source": [
        "print(\"Maximum score =\", top_uni[\"Score\"].max())\n",
        "print(\"Minimum score =\", top_uni[\"Score\"].min())"
      ],
      "metadata": {
        "colab": {
          "base_uri": "https://localhost:8080/"
        },
        "id": "wdfsLA8MeuvQ",
        "outputId": "efda0872-4e57-4b4d-de93-158ee6299a82"
      },
      "execution_count": 27,
      "outputs": [
        {
          "output_type": "stream",
          "name": "stdout",
          "text": [
            "Maximum score = 100.0\n",
            "Minimum score = 69.7\n"
          ]
        }
      ]
    },
    {
      "cell_type": "markdown",
      "source": [
        "3."
      ],
      "metadata": {
        "id": "NjZOdWEZvotT"
      }
    },
    {
      "cell_type": "code",
      "source": [
        "top_uni[\"Score\"].quantile([0.25,0.75])"
      ],
      "metadata": {
        "colab": {
          "base_uri": "https://localhost:8080/"
        },
        "id": "TwDhZTHzvFyG",
        "outputId": "c97fe5ef-0234-45b9-9ea8-d38c2e2e901e"
      },
      "execution_count": 28,
      "outputs": [
        {
          "output_type": "execute_result",
          "data": {
            "text/plain": [
              "0.25    78.80\n",
              "0.75    84.55\n",
              "Name: Score, dtype: float64"
            ]
          },
          "metadata": {},
          "execution_count": 28
        }
      ]
    },
    {
      "cell_type": "code",
      "source": [
        "q1, q3 = top_uni[\"Score\"].quantile([0.25,0.75])"
      ],
      "metadata": {
        "id": "BwW9iqd4vrdO"
      },
      "execution_count": 29,
      "outputs": []
    },
    {
      "cell_type": "code",
      "source": [
        "print(q1, q3)"
      ],
      "metadata": {
        "colab": {
          "base_uri": "https://localhost:8080/"
        },
        "id": "YF-GQBLBvyCK",
        "outputId": "34ce823c-9767-497d-e8cb-d5dba1db9b5c"
      },
      "execution_count": 30,
      "outputs": [
        {
          "output_type": "stream",
          "name": "stdout",
          "text": [
            "78.8 84.55\n"
          ]
        }
      ]
    },
    {
      "cell_type": "code",
      "source": [
        "iqr = q3 - q1"
      ],
      "metadata": {
        "id": "cwjVUEAnv2N4"
      },
      "execution_count": 31,
      "outputs": []
    },
    {
      "cell_type": "code",
      "source": [
        "print(iqr)"
      ],
      "metadata": {
        "colab": {
          "base_uri": "https://localhost:8080/"
        },
        "id": "ADkQ_wciv6_c",
        "outputId": "4cb4802c-72c0-4cdd-f8a3-96453d571e35"
      },
      "execution_count": 32,
      "outputs": [
        {
          "output_type": "stream",
          "name": "stdout",
          "text": [
            "5.75\n"
          ]
        }
      ]
    },
    {
      "cell_type": "markdown",
      "source": [
        "4."
      ],
      "metadata": {
        "id": "qQS1WTw_wnus"
      }
    },
    {
      "cell_type": "code",
      "source": [
        "lower_min = q1 - (1.5*iqr)\n",
        "upper_max = q3 + (1.5*iqr)"
      ],
      "metadata": {
        "id": "0QLLx20Ov8XI"
      },
      "execution_count": 33,
      "outputs": []
    },
    {
      "cell_type": "code",
      "source": [
        "print(lower_min, upper_max)"
      ],
      "metadata": {
        "colab": {
          "base_uri": "https://localhost:8080/"
        },
        "id": "QqzWrrGwwS4e",
        "outputId": "4d84a9b6-e6f3-484b-c26f-ee809ea50add"
      },
      "execution_count": 34,
      "outputs": [
        {
          "output_type": "stream",
          "name": "stdout",
          "text": [
            "70.175 93.175\n"
          ]
        }
      ]
    },
    {
      "cell_type": "markdown",
      "source": [
        "5."
      ],
      "metadata": {
        "id": "1hIYO_odwtTX"
      }
    },
    {
      "cell_type": "code",
      "source": [
        "top_uni[(top_uni[\"Score\"] < 70.175) | (top_uni[\"Score\"] > 93.175)]\n"
      ],
      "metadata": {
        "colab": {
          "base_uri": "https://localhost:8080/",
          "height": 351
        },
        "id": "qf7tfLj-wlTZ",
        "outputId": "a116c5c9-0c17-46f2-e61e-71715ca09364"
      },
      "execution_count": 36,
      "outputs": [
        {
          "output_type": "execute_result",
          "data": {
            "text/plain": [
              "      World Rank                            Institution         Country  \\\n",
              "0              1                     Harvard University             USA   \n",
              "1              2  Massachusetts Institute of Technology             USA   \n",
              "2              3                    Stanford University             USA   \n",
              "3              4                University of Cambridge  United Kingdom   \n",
              "4              5                   University of Oxford  United Kingdom   \n",
              "1096        1097                 University of Calcutta           India   \n",
              "\n",
              "      National Rank  Quality of Education Rank  Alumni Employment Rank  \\\n",
              "0                 1                        1.0                     1.0   \n",
              "1                 2                        4.0                    12.0   \n",
              "2                 3                       10.0                     4.0   \n",
              "3                 1                        3.0                    25.0   \n",
              "4                 2                        7.0                    27.0   \n",
              "1096             20                      521.0                   591.0   \n",
              "\n",
              "      Quality of Faculty Rank  Research Performance Rank  Score  \n",
              "0                         1.0                        1.0  100.0  \n",
              "1                         2.0                        8.0   96.7  \n",
              "2                         3.0                        2.0   95.1  \n",
              "3                         4.0                       10.0   94.1  \n",
              "4                         9.0                        4.0   93.3  \n",
              "1096                    249.0                     1183.0   69.7  "
            ],
            "text/html": [
              "\n",
              "  <div id=\"df-0e32e5ef-f05a-4f61-9be8-3ac4e909f165\">\n",
              "    <div class=\"colab-df-container\">\n",
              "      <div>\n",
              "<style scoped>\n",
              "    .dataframe tbody tr th:only-of-type {\n",
              "        vertical-align: middle;\n",
              "    }\n",
              "\n",
              "    .dataframe tbody tr th {\n",
              "        vertical-align: top;\n",
              "    }\n",
              "\n",
              "    .dataframe thead th {\n",
              "        text-align: right;\n",
              "    }\n",
              "</style>\n",
              "<table border=\"1\" class=\"dataframe\">\n",
              "  <thead>\n",
              "    <tr style=\"text-align: right;\">\n",
              "      <th></th>\n",
              "      <th>World Rank</th>\n",
              "      <th>Institution</th>\n",
              "      <th>Country</th>\n",
              "      <th>National Rank</th>\n",
              "      <th>Quality of Education Rank</th>\n",
              "      <th>Alumni Employment Rank</th>\n",
              "      <th>Quality of Faculty Rank</th>\n",
              "      <th>Research Performance Rank</th>\n",
              "      <th>Score</th>\n",
              "    </tr>\n",
              "  </thead>\n",
              "  <tbody>\n",
              "    <tr>\n",
              "      <th>0</th>\n",
              "      <td>1</td>\n",
              "      <td>Harvard University</td>\n",
              "      <td>USA</td>\n",
              "      <td>1</td>\n",
              "      <td>1.0</td>\n",
              "      <td>1.0</td>\n",
              "      <td>1.0</td>\n",
              "      <td>1.0</td>\n",
              "      <td>100.0</td>\n",
              "    </tr>\n",
              "    <tr>\n",
              "      <th>1</th>\n",
              "      <td>2</td>\n",
              "      <td>Massachusetts Institute of Technology</td>\n",
              "      <td>USA</td>\n",
              "      <td>2</td>\n",
              "      <td>4.0</td>\n",
              "      <td>12.0</td>\n",
              "      <td>2.0</td>\n",
              "      <td>8.0</td>\n",
              "      <td>96.7</td>\n",
              "    </tr>\n",
              "    <tr>\n",
              "      <th>2</th>\n",
              "      <td>3</td>\n",
              "      <td>Stanford University</td>\n",
              "      <td>USA</td>\n",
              "      <td>3</td>\n",
              "      <td>10.0</td>\n",
              "      <td>4.0</td>\n",
              "      <td>3.0</td>\n",
              "      <td>2.0</td>\n",
              "      <td>95.1</td>\n",
              "    </tr>\n",
              "    <tr>\n",
              "      <th>3</th>\n",
              "      <td>4</td>\n",
              "      <td>University of Cambridge</td>\n",
              "      <td>United Kingdom</td>\n",
              "      <td>1</td>\n",
              "      <td>3.0</td>\n",
              "      <td>25.0</td>\n",
              "      <td>4.0</td>\n",
              "      <td>10.0</td>\n",
              "      <td>94.1</td>\n",
              "    </tr>\n",
              "    <tr>\n",
              "      <th>4</th>\n",
              "      <td>5</td>\n",
              "      <td>University of Oxford</td>\n",
              "      <td>United Kingdom</td>\n",
              "      <td>2</td>\n",
              "      <td>7.0</td>\n",
              "      <td>27.0</td>\n",
              "      <td>9.0</td>\n",
              "      <td>4.0</td>\n",
              "      <td>93.3</td>\n",
              "    </tr>\n",
              "    <tr>\n",
              "      <th>1096</th>\n",
              "      <td>1097</td>\n",
              "      <td>University of Calcutta</td>\n",
              "      <td>India</td>\n",
              "      <td>20</td>\n",
              "      <td>521.0</td>\n",
              "      <td>591.0</td>\n",
              "      <td>249.0</td>\n",
              "      <td>1183.0</td>\n",
              "      <td>69.7</td>\n",
              "    </tr>\n",
              "  </tbody>\n",
              "</table>\n",
              "</div>\n",
              "      <button class=\"colab-df-convert\" onclick=\"convertToInteractive('df-0e32e5ef-f05a-4f61-9be8-3ac4e909f165')\"\n",
              "              title=\"Convert this dataframe to an interactive table.\"\n",
              "              style=\"display:none;\">\n",
              "        \n",
              "  <svg xmlns=\"http://www.w3.org/2000/svg\" height=\"24px\"viewBox=\"0 0 24 24\"\n",
              "       width=\"24px\">\n",
              "    <path d=\"M0 0h24v24H0V0z\" fill=\"none\"/>\n",
              "    <path d=\"M18.56 5.44l.94 2.06.94-2.06 2.06-.94-2.06-.94-.94-2.06-.94 2.06-2.06.94zm-11 1L8.5 8.5l.94-2.06 2.06-.94-2.06-.94L8.5 2.5l-.94 2.06-2.06.94zm10 10l.94 2.06.94-2.06 2.06-.94-2.06-.94-.94-2.06-.94 2.06-2.06.94z\"/><path d=\"M17.41 7.96l-1.37-1.37c-.4-.4-.92-.59-1.43-.59-.52 0-1.04.2-1.43.59L10.3 9.45l-7.72 7.72c-.78.78-.78 2.05 0 2.83L4 21.41c.39.39.9.59 1.41.59.51 0 1.02-.2 1.41-.59l7.78-7.78 2.81-2.81c.8-.78.8-2.07 0-2.86zM5.41 20L4 18.59l7.72-7.72 1.47 1.35L5.41 20z\"/>\n",
              "  </svg>\n",
              "      </button>\n",
              "      \n",
              "  <style>\n",
              "    .colab-df-container {\n",
              "      display:flex;\n",
              "      flex-wrap:wrap;\n",
              "      gap: 12px;\n",
              "    }\n",
              "\n",
              "    .colab-df-convert {\n",
              "      background-color: #E8F0FE;\n",
              "      border: none;\n",
              "      border-radius: 50%;\n",
              "      cursor: pointer;\n",
              "      display: none;\n",
              "      fill: #1967D2;\n",
              "      height: 32px;\n",
              "      padding: 0 0 0 0;\n",
              "      width: 32px;\n",
              "    }\n",
              "\n",
              "    .colab-df-convert:hover {\n",
              "      background-color: #E2EBFA;\n",
              "      box-shadow: 0px 1px 2px rgba(60, 64, 67, 0.3), 0px 1px 3px 1px rgba(60, 64, 67, 0.15);\n",
              "      fill: #174EA6;\n",
              "    }\n",
              "\n",
              "    [theme=dark] .colab-df-convert {\n",
              "      background-color: #3B4455;\n",
              "      fill: #D2E3FC;\n",
              "    }\n",
              "\n",
              "    [theme=dark] .colab-df-convert:hover {\n",
              "      background-color: #434B5C;\n",
              "      box-shadow: 0px 1px 3px 1px rgba(0, 0, 0, 0.15);\n",
              "      filter: drop-shadow(0px 1px 2px rgba(0, 0, 0, 0.3));\n",
              "      fill: #FFFFFF;\n",
              "    }\n",
              "  </style>\n",
              "\n",
              "      <script>\n",
              "        const buttonEl =\n",
              "          document.querySelector('#df-0e32e5ef-f05a-4f61-9be8-3ac4e909f165 button.colab-df-convert');\n",
              "        buttonEl.style.display =\n",
              "          google.colab.kernel.accessAllowed ? 'block' : 'none';\n",
              "\n",
              "        async function convertToInteractive(key) {\n",
              "          const element = document.querySelector('#df-0e32e5ef-f05a-4f61-9be8-3ac4e909f165');\n",
              "          const dataTable =\n",
              "            await google.colab.kernel.invokeFunction('convertToInteractive',\n",
              "                                                     [key], {});\n",
              "          if (!dataTable) return;\n",
              "\n",
              "          const docLinkHtml = 'Like what you see? Visit the ' +\n",
              "            '<a target=\"_blank\" href=https://colab.research.google.com/notebooks/data_table.ipynb>data table notebook</a>'\n",
              "            + ' to learn more about interactive tables.';\n",
              "          element.innerHTML = '';\n",
              "          dataTable['output_type'] = 'display_data';\n",
              "          await google.colab.output.renderOutput(dataTable, element);\n",
              "          const docLink = document.createElement('div');\n",
              "          docLink.innerHTML = docLinkHtml;\n",
              "          element.appendChild(docLink);\n",
              "        }\n",
              "      </script>\n",
              "    </div>\n",
              "  </div>\n",
              "  "
            ]
          },
          "metadata": {},
          "execution_count": 36
        }
      ]
    }
  ]
}