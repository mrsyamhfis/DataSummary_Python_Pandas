{
  "nbformat": 4,
  "nbformat_minor": 0,
  "metadata": {
    "colab": {
      "provenance": [],
      "authorship_tag": "ABX9TyMidK3cD02BveJrmBhorjym",
      "include_colab_link": true
    },
    "kernelspec": {
      "name": "python3",
      "display_name": "Python 3"
    },
    "language_info": {
      "name": "python"
    }
  },
  "cells": [
    {
      "cell_type": "markdown",
      "metadata": {
        "id": "view-in-github",
        "colab_type": "text"
      },
      "source": [
        "<a href=\"https://colab.research.google.com/github/mrsyamhfis/Python_Pandas/blob/main/API_Web_Scrapping.ipynb\" target=\"_parent\"><img src=\"https://colab.research.google.com/assets/colab-badge.svg\" alt=\"Open In Colab\"/></a>"
      ]
    },
    {
      "cell_type": "markdown",
      "source": [
        "**Steps on how to extract data from API**\n",
        "\n"
      ],
      "metadata": {
        "id": "ESJSkCjxFUEH"
      }
    },
    {
      "cell_type": "code",
      "source": [
        "import pandas as pd"
      ],
      "metadata": {
        "id": "EouH7wgxGvWW"
      },
      "execution_count": null,
      "outputs": []
    },
    {
      "cell_type": "code",
      "execution_count": null,
      "metadata": {
        "id": "WSIhMQt0-zSX"
      },
      "outputs": [],
      "source": [
        "import requests\n",
        "import json"
      ]
    },
    {
      "cell_type": "markdown",
      "source": [
        "1. Making a GET request to API"
      ],
      "metadata": {
        "id": "5N6vKoo3Ixoo"
      }
    },
    {
      "cell_type": "code",
      "source": [
        "response_API = requests.get('https://api.themoviedb.org/3/movie/top_rated?api_key=a36854c943bf005c8704971b6a267f76&page=3')"
      ],
      "metadata": {
        "id": "L-lukBXuEDts"
      },
      "execution_count": null,
      "outputs": []
    },
    {
      "cell_type": "markdown",
      "source": [
        "2. Extract JSON data from the response"
      ],
      "metadata": {
        "id": "Q5ACtaDmJXsT"
      }
    },
    {
      "cell_type": "code",
      "source": [
        "data = response_API.json()"
      ],
      "metadata": {
        "id": "ohbvUM_eJIn7"
      },
      "execution_count": null,
      "outputs": []
    },
    {
      "cell_type": "markdown",
      "source": [
        "3. Converting json into pandas df"
      ],
      "metadata": {
        "id": "oMTHMkrjLJ9W"
      }
    },
    {
      "cell_type": "code",
      "source": [
        "#takjadi\n",
        "#df = pd.read_json(extract_data)\n",
        "#df = pd.read_json(extract_data, orient = 'index')\n",
        "#df = pd.read_json('extract_data')\n",
        "#db = extract_data.read()\n",
        "#extract_data.to_csv('cleaned_dataset.csv')\n",
        "#ee = json.normalize(extract_data)\n",
        "#ee = pd.DataFrame('extract_data')"
      ],
      "metadata": {
        "id": "PHRP75_7KQol"
      },
      "execution_count": null,
      "outputs": []
    },
    {
      "cell_type": "code",
      "source": [
        "df = pd.DataFrame(data)"
      ],
      "metadata": {
        "id": "5gMIiOO2Js6q"
      },
      "execution_count": null,
      "outputs": []
    },
    {
      "cell_type": "code",
      "source": [
        "df.to_csv('new_data.csv', index=False)"
      ],
      "metadata": {
        "id": "g3y5bHyGAzLK"
      },
      "execution_count": null,
      "outputs": []
    },
    {
      "cell_type": "code",
      "source": [
        "print(df.info()) "
      ],
      "metadata": {
        "colab": {
          "base_uri": "https://localhost:8080/"
        },
        "id": "PD949x-5A0pJ",
        "outputId": "387d2d77-75d1-4b20-8cc0-4581d9db9606"
      },
      "execution_count": null,
      "outputs": [
        {
          "output_type": "stream",
          "name": "stdout",
          "text": [
            "<class 'pandas.core.frame.DataFrame'>\n",
            "RangeIndex: 20 entries, 0 to 19\n",
            "Data columns (total 4 columns):\n",
            " #   Column         Non-Null Count  Dtype \n",
            "---  ------         --------------  ----- \n",
            " 0   page           20 non-null     int64 \n",
            " 1   results        20 non-null     object\n",
            " 2   total_pages    20 non-null     int64 \n",
            " 3   total_results  20 non-null     int64 \n",
            "dtypes: int64(3), object(1)\n",
            "memory usage: 768.0+ bytes\n",
            "None\n"
          ]
        }
      ]
    },
    {
      "cell_type": "code",
      "source": [
        "print(df)"
      ],
      "metadata": {
        "colab": {
          "base_uri": "https://localhost:8080/"
        },
        "id": "vCJZFHIBA4H_",
        "outputId": "83e6fc6a-3e44-4316-f174-894407225232"
      },
      "execution_count": null,
      "outputs": [
        {
          "output_type": "stream",
          "name": "stdout",
          "text": [
            "    page                                            results  total_pages  \\\n",
            "0      3  {'adult': False, 'backdrop_path': '/dMZxEdrWIz...          544   \n",
            "1      3  {'adult': False, 'backdrop_path': '/rAiYTfKGqD...          544   \n",
            "2      3  {'adult': False, 'backdrop_path': '/nC3IjYhUgZ...          544   \n",
            "3      3  {'adult': False, 'backdrop_path': '/rl7Jw8PjhS...          544   \n",
            "4      3  {'adult': False, 'backdrop_path': '/dVr11o9or7...          544   \n",
            "5      3  {'adult': False, 'backdrop_path': '/i1GT0e6Crg...          544   \n",
            "6      3  {'adult': False, 'backdrop_path': '/fRGxZuo7jJ...          544   \n",
            "7      3  {'adult': False, 'backdrop_path': '/jxEdvdiBpE...          544   \n",
            "8      3  {'adult': False, 'backdrop_path': '/kWYfW2Re0r...          544   \n",
            "9      3  {'adult': False, 'backdrop_path': '/p47ihFj4A7...          544   \n",
            "10     3  {'adult': False, 'backdrop_path': '/hh28CTWLdx...          544   \n",
            "11     3  {'adult': False, 'backdrop_path': '/AfyuI3glMC...          544   \n",
            "12     3  {'adult': False, 'backdrop_path': '/aQ7444JX7g...          544   \n",
            "13     3  {'adult': False, 'backdrop_path': '/8ZTVqvKDQ8...          544   \n",
            "14     3  {'adult': False, 'backdrop_path': '/zGs5tZOlvc...          544   \n",
            "15     3  {'adult': False, 'backdrop_path': '/9LSsSPbP71...          544   \n",
            "16     3  {'adult': False, 'backdrop_path': '/8AMKZODrCv...          544   \n",
            "17     3  {'adult': False, 'backdrop_path': '/5qtOVAcBFo...          544   \n",
            "18     3  {'adult': False, 'backdrop_path': '/l5K9elugft...          544   \n",
            "19     3  {'adult': False, 'backdrop_path': '/aYcnDyLMnp...          544   \n",
            "\n",
            "    total_results  \n",
            "0           10872  \n",
            "1           10872  \n",
            "2           10872  \n",
            "3           10872  \n",
            "4           10872  \n",
            "5           10872  \n",
            "6           10872  \n",
            "7           10872  \n",
            "8           10872  \n",
            "9           10872  \n",
            "10          10872  \n",
            "11          10872  \n",
            "12          10872  \n",
            "13          10872  \n",
            "14          10872  \n",
            "15          10872  \n",
            "16          10872  \n",
            "17          10872  \n",
            "18          10872  \n",
            "19          10872  \n"
          ]
        }
      ]
    }
  ]
}